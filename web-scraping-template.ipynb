{
 "cells": [
  {
   "cell_type": "code",
   "execution_count": 1,
   "id": "52c4548d",
   "metadata": {},
   "outputs": [],
   "source": [
    "from selenium import webdriver\n",
    "from time import sleep\n",
    "import urllib\n",
    "import os\n",
    "from selenium.webdriver.common.keys import Keys"
   ]
  },
  {
   "cell_type": "code",
   "execution_count": 2,
   "id": "ef6c4216",
   "metadata": {},
   "outputs": [],
   "source": [
    "browser = webdriver.Firefox(executable_path = './geckodriver')"
   ]
  },
  {
   "cell_type": "code",
   "execution_count": 18,
   "id": "69a57909",
   "metadata": {},
   "outputs": [],
   "source": [
    "def extract_text(xpath):\n",
    "    return browser.find_element_by_xpath(xpath).text\n",
    "\n",
    "def click_button(xpath):\n",
    "    browser.find_element_by_xpath(xpath).click()\n",
    "    \n",
    "def extract_url(xpath):\n",
    "    return browser.find_element_by_xpath(xpath).get_attribute('href')\n",
    "\n",
    "def access_website(url):\n",
    "    browser.get(url)\n",
    "\n",
    "def scroll_down(height, bottom=False):\n",
    "    if bottom:\n",
    "        browser.execute_script(\"window.scrollTo(0, document.body.scrollHeight);\")\n",
    "    else:\n",
    "        browser.execute_script(f\"window.scrollTo(0, {height})\") \n",
    "\n",
    "def previous_page():\n",
    "    browser.back()\n",
    "    \n",
    "def download_image(xpath, folder_name, img_name):\n",
    "    img_path = os.path.join(folder_name, img_name)\n",
    "    src = browser.find_element_by_xpath(xpath).get_attribute('src')\n",
    "    urllib.request.urlretrieve(src, img_path)\n",
    "    \n",
    "def insert_to_textbox(xpath, content):\n",
    "    browser.find_element_by_xpath(xpath).send_keys(content)\n",
    "    \n",
    "def hit_Enter(xpath):\n",
    "    browser.find_element_by_xpath(xpath).send_keys(Keys.ENTER)"
   ]
  },
  {
   "cell_type": "code",
   "execution_count": 5,
   "id": "dbb9ecf4",
   "metadata": {},
   "outputs": [],
   "source": [
    "access_website('https://tiki.vn/')"
   ]
  },
  {
   "cell_type": "code",
   "execution_count": 6,
   "id": "0df8f408",
   "metadata": {},
   "outputs": [],
   "source": [
    "searchbox_xpath = '/html/body/div[1]/div[1]/header/div[1]/div/div[1]/div[2]/div/input'\n",
    "insert_to_textbox(searchbox_xpath, \"bẫy chồn\")"
   ]
  },
  {
   "cell_type": "code",
   "execution_count": 7,
   "id": "eef1748e",
   "metadata": {},
   "outputs": [],
   "source": [
    "hit_Enter(searchbox_xpath)"
   ]
  },
  {
   "cell_type": "code",
   "execution_count": null,
   "id": "b79f6783",
   "metadata": {},
   "outputs": [],
   "source": [
    "/html/body/div[1]/div[1]/main/div[2]/div/div[2]/div[1]/div[2]/div[3]/a\n",
    "/html/body/div[1]/div[1]/main/div[2]/div/div[2]/div[1]/div[2]/div[4]/a"
   ]
  },
  {
   "cell_type": "code",
   "execution_count": 12,
   "id": "18c88c71",
   "metadata": {},
   "outputs": [
    {
     "data": {
      "text/plain": [
       "['https://tka.tiki.vn/searcher/pixel?CLICK=&data=djAwMSAO06kSMuWrgDbZHdFjG0HAqQiXag-Kr38wtMQgfeeOCa1mZqdEqxtDjnzwYAQ0pxA8tPUUiFnv2-4fNXePk4JmXbHuh_9cOG27n0B2Dv3FqkCDCLDfebWRoPhGDts4oFH6DB32vIjhxpRmuvzxFVbJ04rgosSrhTObMWFsv6STIs654jh408QwQMv3l7Yw8iyc8HnrViuOIx21L3rkvmSVNX6Pv3l0ajp8mUlOHKBWhbmVPMdmo8ABPXUhuE5wnqp7HBzu0cnH046Nmbkk4Ie_2yvJUgM6PKRh8udjRCS_vmlxEikkuT1H7gNQWbrlkNaQjE0Ny8cmw01Qo4s52AETlNQUnhkBLRkuVwgDqbzy-v9eTl_Ud-AuPduJo0M3Di9iFAjNorVnwhwx5d0IyE9dxZ0U2E00Xoi1-dZwcTGBiVobxi5okWypEj9Mms43h6rtJo_S7xsKVpCci3k3Q_A5OYiHVwbVGGZmw2CNg9UsgoCMYRG-aUuKiIjOh_HcbYHUYJpYQ8_gG_zi2H0eXCSFR4R8Cz2TY3GLO3zHryq00BHUqlD3vAQZBmQMqyYNPUW9j9qZJF_NB8vSG-2I94jJcxxncVy7tUlhSrNeXD3iio2vl_7dokDssGzCBQVC2WuUTYlPHu_J7SNXOsb728JYtBSGXdugC4Be88LEWR9KTRhb1LvTE1fTtli1-g1VorHpDwGRD9tEtGb64Hy7FY2HeMgbRT6bN7bgW7id6G6bXINxRDpMtnSuCW6j1hv8TITznJmUux1U-n-rR6e0xgMok2aDBZ5Hn0rMxiPawSJ9uLp7gqCTHzEHrhiDjS8bB_wq1oqbbFGWIAGAr7Yx5aJbOjfVIKrDCtiZXdu7RpsyBQlQ1TsxS-q2oAWCmoKt6bB-WkwMpbRIVadhmhAdM4ELtsWIwCMivUracTvxLc0nDzHCJzBdCsULqN6V5y6syS1CTQen5vVQEF0b3NStP8pwye2O8Vk&itm_campaign=SRC_YPD_TKA_PLA_UNK_ALL_UNK_UNK_UNK_UNK_X.85467_Y.762935_Z.1498087_CN.Keo-Chuot-T11&itm_medium=CPC&itm_source=tiki-ads&reqid=ZiE8Zxwknk&pos=9&redirect=https%3A%2F%2Ftiki.vn%2Fcombo-5-mieng-keo-dinh-chuot-sieu-dinh-p109125761.html%3Fspid%3D109125763',\n",
       " 'https://tka.tiki.vn/searcher/pixel?CLICK=&data=djAwMeKvoS-STHvXwNSuqHfjl6Qll0P9ucmvW-m3QyKTBrMd3I92D2Nrz9xcXLTX5iH51tHoQeMv_8dNGG5XmXAJU8fAg-5bCUGZp-wxFhWfkj6fCnz8AV3oHYVBPd-Qql1BzdtFZ4hS8vVaAWvg_N17r7gaBTCB9ArE9qDY3uzoMs_Bs4cTqdNajX4g8QigD1d7KwNyWJVy5KeHNaRXmsaZIbuwtfoUBJ-SBDqvAIC357c3g0TUk47ApyvMKVxcSSJBMGYPtmiTokuTCBYdxxLkaDsR88p5MTps0FaJXDxz_br5C9Wt-CDrfdAZofGFujBwbdLJRCdt34w6F3bBFuNh1PzvoMy3-OqFR4MXAlP-Fo1RPSydc0uygXIVDpNfmDcFCLehL1Rg7aFLBUZ0kKQmB8oaDAq3uveoIreE8L-HPpgcZhCh6gAXj4dr5OV-wJrWEXCHZbp40BgADbfNRStXdAqs4Mif8cQqZ0ijWf4o5v2Ub62RxYyL5JINSxIGs2KDNNQXA3RFu5kY6u_iILWWwD0MmLYWljcmg1A88im38DjeM9JTPi-9gXhiZN4nkdcB39xgtqUYFzYbFqwFRF0_t6PpLHYaNX24go5JVvIZVjitf2vE6kIPr6amvHKP22JHkCjtnnFC6EStVMlZPKPrLXfpibkExVopbBnjXh0BtWOvQLw1KhjxUsguA7kNESnSHMH1sU0FKfwnj4vrbyl2RjfCqez8UwvvBBUxi6K7BUtZkR9-NjxdZdCd_bzUUkCACmWx8p4FGq2Ba7nLEOCHlie4IDpRCRlWtEgfzJrH8zsTqSgdBejEfN3syZ5mng8RUaGIdEJQr9o4l_Bn0_66GYvN9PmSS-g1EvwXh9SZaSZbg5fNq8zeo3CwFT1s6GzyaFgLPovXT59xQLYpsge6DE50k5B9Wm-_a0y379CZM6Lw3waOrSzjKWc7du-2_DkHvH8l_JhC8V-d2D0cPSLiU--7HXQ6iggaRtiqOEprRJSY1gqbVpeXbg&itm_campaign=SRC_YPD_TKA_PLA_UNK_ALL_UNK_UNK_UNK_UNK_X.42104_Y.326297_Z.778834_CN.Khay-xoay-nho%252C-hop-tron_QC-tu-dong&itm_medium=CPC&itm_source=tiki-ads&reqid=ZiE8Zxwknk&pos=13&redirect=https%3A%2F%2Ftiki.vn%2Fbay-chuot-thong-minh-fabuta-tu-dong-bang-van-truot-co-the-su-dung-nhieu-lan-p56849827.html%3Fspid%3D56849828',\n",
       " 'https://tka.tiki.vn/searcher/pixel?CLICK=&data=djAwMYUSnhIwREjV8r5Ukin7MSfvTv1Pk36CT4HfW_cr6G8jqwu_HT_NWqlQsa6Bz1a6yUBNH62bbO8HSLxU5v2G22v_iifSCk4g-_JEUcLTPGGFjFRqr00bAB9PWPsN2wxMNXuM3Ps-h0JAlhHIHSNqcJv8R0C8CbAQyjGqZnrdFkqAksqsqP7aK9heK4AM1tTD844jrGgBGBWcvKAZA_YEH6ZF0eZOaEkcmaD6HeVLrfeITfj8eZ2O7AdnREzNZGpJ3RcMTRsSMcblGfNjLXxql9UmWzTRQeoj2WRIanfMtDbm43BkWpMXhCwUaHTpgMZ_jVSoGkkDu3krR8JyNUXt5NDZ33qgml-7jeSTJRUylZQZcm1kk4AVXZYpUNxj4NnLnA8nn03EibYStjjJo9COFjmh_RSxEa8nc1MqCgHBR-3hb0xXdx3aqnNVvqZJ0wLqnqcADAZScOcsB0YLjEm6v6YFEP0Rpr_yg4-nSiat7fHnwAl2wbF215EdZZOaTj-DyfoziuM2q8z_01QBbi2ULDhyXOoUTY1RwdYCCk7fWR4JJAyIIgWvC6hNNPs7IPKO9esVnUasriK71CXpFwxe8fJ80LdizH3PNGQYzeBtFq_me7TCmPyT_Wm91WJX4QWtvobopOHpKxop9zT3weQcFES6KjrCe3xE1ugMrAyIwTg6Tp45KnB_uKtrgPJ-eJXye_NdiNTVsh2-nrkxTEfcss05370HiFHVxVXNa2Viel3GHpZKuH1UchUN5H-3OHIYogCSF0Ub9q6nyIcjFEIc6lwrq8gpPq1bYYKnWcKFGpk7HLLiBWHi_QJY7bVwzTXlZpGF7b5rMqWaMXApWZNbgr3V407humxsHKnN_paeVbRTXW5_N8Pj_hJeiAkSoADhY06FIZYkZZjwZxY7AIetSi8wfv02IrPPm4-A-WqNKUc5E4rTY8tz8yDBXvf8KrM8BSMAppJUn0vdH_JlzdI--LI&itm_campaign=SRC_YPD_TKA_PLA_UNK_ALL_UNK_UNK_UNK_UNK_X.85801_Y.768518_Z.1505173_CN.Product-Ads-06%252F11%252F2021&itm_medium=CPC&itm_source=tiki-ads&reqid=ZiE8Zxwknk&pos=17&redirect=https%3A%2F%2Ftiki.vn%2Fmay-bat-ruoi-tu-dong-thong-minh-edoo-yd-218-p23068549.html%3Fspid%3D135598558',\n",
       " 'https://tka.tiki.vn/searcher/pixel?CLICK=&data=djAwMb11QX-LtiRWlCouMtEyFn5u6JfmlchjW721RTHnrGgSNWbYiVEEBC5F0V0zhjKSmnuE8NrW8BXuMf6hjoA88vzveS-on_aZznMj7tf7urysNPKVDF5stZHL-R3FpkKKpYd3yES_IVHD8LhXO7GzYlhAGXE-WX04IzJ-EsMMMZRP4PfikgRI8TRVZj4SHPdM0pq2EkAN0Es2ACDkbtzie6ReMYC6sJ7hsFYwJ-SCna_MtiWqJFB9nlzGge_qXiASnIazMj2coKQ9bXq0n68Gg3UfZfxhp3LZ5DzgZeWfar2ma8rr3cYXSTYaWCo8bcp05SXiGhanCnzEaw6ja2G8SkspLUN6bHNGktPlX9Su6hfHhkN6ATUXddgkbXq_K-6FxhVUuGaf2iwlsPFMGqlHl6mCpsTxjFXiulClxSLyL7rfcJ47z1oRo2qycxBI9guqqFZcNh4GW9TdwDRFzO8pUfAbPEyXfrMCiXujZHYKpl0lOKUXLnZD47DIqPdOsYL60bh1wuTl8MngSgCv3jzDgfKVXLkSsDeyRjij5iwXw_eyvGdghGquIxaoJcdyNMKbR2CVnsOwHqLmre7BqQpNQMGNxWg6fK3x1k_vnw81JR9jp7Y3aSLxyaDHv5pRaTIM3dbU0H5YznLQQLGa5nzKpjuSIYhBLJ04GsLCIxvI7YKgN6jvMVrf-cVCBEKoYWlVHlyz0jiybwmwdKZvZCtIU1FE930ojZs2dKm7ehzuSmjpcjdrX6SbHYRfSNdjcIF0cbvBx87fKT1wbKJiyyU5eoKOvLrFt9prYWmNcKyxkJgKFWVU3CjkiOiXr6eDW-32En_SQ2jL9_qSwMGBU5j6ypINeSW8jO6JFBze-EMNvuhTR2K1Kj8Hc9SqFReQIcTtw8ZfTr8g9L2NBT-N9FyZ4jfibqCSWfq4qZRZAOBGIgx9Tl0wshjwID9fjh0gXZfNHgdEog4sog&itm_campaign=SRC_YPD_TKA_PLA_UNK_ALL_UNK_UNK_UNK_UNK_X.88562_Y.798601_Z.1547266_CN.Product-Ads-12%252F11%252F2021&itm_medium=CPC&itm_source=tiki-ads&reqid=ZiE8Zxwknk&pos=21&redirect=https%3A%2F%2Ftiki.vn%2Fkhay-dot-nhang-muoi-long-dot-nhang-muoi-hinh-long-chim-treo-tuong-khay-dot-nhang-chong-muoi-chon-mau-theo-y-p86416252.html%3Fspid%3D86416254',\n",
       " 'https://tka.tiki.vn/searcher/pixel?CLICK=&data=djAwMfIZsvxZe-JRLIzZfWXl_NVGH1iQ7G_5kpmEvVDK4UBm88oLI_OzSf0R3ACt7r1aBCw_42ESVU8qvCSvK1m_yFJ4xgqQES6Y5XCh3I8TgML_Z73lYx7Lw0Vaq8R9DfH-m_unJ0ojgqG5qBJMQWB_GwAFQKeZBETWZmCJno85aNwCdejCTWuP8tqwPDpH2Rr_NLJWYwtn4Bc89Y83-83q7GctjjicOymeM1bUxNiW6_zG4IKJCxtzZnB91SwKxl2M9ir_J1A1Y59J_2U-KXwEuWiTjoAhCq-slAb9rhD1J8LOmHCblDI50UaRcRWjOTl2hcDjjJVwXm8mUAsqr8-LQepFrZd9t5v9B8LD5zjnzoBZUKBdM4gonOLUViNBM_bYSuSpmxQ_6miK4EWNOc74gUBt51hjVJiITf31Mul-j_TmYfAQK379nTZ59HnZCJ2aOc9xJTVaFPMG3dYTf2Q0PExJ2y0oXgYQQ5LVWeEDO5_AwZDKZ2cDl-KQHWDwp0dHASWz4Ncc27ueIzZgH-_JadhMO9XBgKEPDZmH_PHdm5YBFU5pM148kHCvWXvi4_kRhA56FqyL9T52XbM3aOsFUEbIv794F7BYQraB-QiYPQV5oGzT-h9N0buxZWMBIOEn7zirCKv9syR-KuTVB2eBjz8sZ2toPqqq6jVMLQvV609MLNOA9JfF6UPYR4Khv9j9agPDv7XJ2aI-Im4PEHmiZAuCYzHhKDccAEUhweC_YclmuRkZ19rkYOlOenG_4800sWE_a_WDHs51jewxHll-zh19WD_TWewKewEOimoYVt6JcaRWQrSw8OM3AHH6ji5mWisxiXw0ujw1ouUs0GoyTDkB5Hj9eJaMotw4378f4KbOii-EFcACRg-NwVQP3FY9io18o-o1Lrj7_brUuxKgZqEBvLHE-xiGhD6A0R5SpspsMQrtAEfWF5mqiSCywCR2w4M3mOSlbMH4zGSGqufD3bgsFrKq&itm_campaign=SRC_YPD_TKA_PLA_UNK_ALL_UNK_UNK_UNK_UNK_X.81975_Y.732781_Z.1453374_CN.BAT-MUOI-25%252F10%252F2021&itm_medium=CPC&itm_source=tiki-ads&reqid=ZiE8Zxwknk&pos=25&redirect=https%3A%2F%2Ftiki.vn%2Fmay-duoi-muoi-bang-song-sieu-am-may-duoi-muoi-dien-tu-may-duoi-con-trung-tien-loi-k1107-p87831084.html%3Fspid%3D125346300',\n",
       " 'https://tka.tiki.vn/searcher/pixel?CLICK=&data=djAwMREIslF8sx7XaCfdBcWmRG8LIcSLQ8VWvdjGI4D34TyW0aTkou6gOv8tAlTLqRYblZxX4ySOtssUaiTxlpOkIxYmaDZp8lce45CIywmYwKBTyk7OOrTmdVcjC9HvWeucAaPCUXmr6gp9Q5fjnOFgL5nxjXn6Kkt6YcEk1HrjTbDFuxSx4Dab2T-A_YLTBau5T1hP3YrzyXSADQclENnOY5DfXVu0OGrmx6JaFkiiw1XTR7r-EWGt-NE2PcznmqvzZVCERo6FH0oN1siNPPzjiqBJ8cyuJdLfpQ8PuDi_SnOLgJizM5w9QmyIm88aoMiicE_aUosztbY5ptPbGVmuyRNAmYZsEGSjr2X3cJm9QKoOtrNDbbH9cx6QR4Sc5JlgH2SwigdZgS9-gqtk-6nh4HbfllVxzmQUZADwMlYZuh9YxS4i9TBpI8T4Dp0OovMbyYQuXI4HVGlf0BLqXw36IoFuZz9PplQvv9BjdyMdRdkeRSi7w5SG_sZmZXzrf3pKoDfuxmVT4mz2M6icyFyq4wLR8wMqMbvwlX_GNZW1MUID-dOoy1COIInxj9S62dR94HBASJO9XBHkpQNQSUvS9g0AIPM44Ngw19bpNz02590LbgFuAGGS8k0L_yhUv4YlC2llbYUj4BE7DH9115yVLiMsZDJ5LfupI_EUSEcJ-7Bk78VHmyRRMuvpZn5q8WK-2gGHPZoaexEzzCXrOvm86ekwIRHvYVaOD8brA0NUHL7wR6ia9ilRnlZ1D-5XGMOeA9Lgk1FOhrEXyh4OkQaKRkDOEos3OS4jMp1r9FEH0SQelxqC7EsONXzj025thTRP1vXlFQpwhRyH_RJBTVS05NQ8WDnp5CvguERA8komHnWt1Pp-9h6WxVqL4ViX0AH04rIjgNX393VahTTysQvkjKH-sBA8T1lkEJy7kbbMotQcAspIqE1CDRscqviH0PDo5nb3uMt8MPEPec4KcJAiisftAguy&itm_campaign=SRC_YPD_TKA_PLA_UNK_ALL_UNK_UNK_UNK_UNK_X.88101_Y.791505_Z.1537854_CN.chay-tu-dong&itm_medium=CPC&itm_source=tiki-ads&reqid=ZiE8Zxwknk&pos=29&redirect=https%3A%2F%2Ftiki.vn%2Fmay-duoi-chuot-trong-nha-an-toan-p28598080.html%3Fspid%3D133630067',\n",
       " 'https://tka.tiki.vn/searcher/pixel?CLICK=&data=djAwMSi1u01oZj_VHNH3nHCBzh8GgiN9qM4DSzeiB0n1pChj7E9aXsyxW_7K5kwNxI3G8uH2SGfxhCDG7iGWCTnMcBGN2-HOhJRsFmD80Uz61a4gKMcqw_BwEJAoMVQgIOsD4hMleNKc8CRZKKY4GMu7dB2XnAfSEC28xS8WynJde91D0ktIQ9_u_FNNnBKggPl6Or124Ov3c-reeWPNXyYitpPQ3jdEk5-DqbOf-uy4WxRB3X8d_rGm7pTTVUUIPtaJxU-Ct6w9X4f-d_3bUvimOjcKCAFl5eM_rfKGSqZKiImFXxtCDqtHPAnekHn1CuHdGa2GDKagvvxtIHeVI8aOPCgH_eZaH4MTIvyN1NacuxqcdzWr_wuKLTNCDxKlkEhkf1YX-Q0G3QVgcTDPRUjTmHNGDnETVqRKTZauIGVZ6QekIqhaQtENqtyV1nWOLVJc7Dz1XR9bw_YdLkRgEl2h8fj2SD__b29idjeG-p7lxbhXUIqUuJWZPP5RX7Q4o9MkbJK9tFbdokrjLfU25Oc8cXlrtW7YhtxNKb4ubmVJzta0ERlzHkQoAwDCUSh4RvPA1zyjHv6s547Np2Qca-qrX85wmqXrLcemtv2P1PDnbA_kE9HNXd0BDQnEoEior5V1UcBwDN4vzYp-7f-O-DnI0t83GL4evJSfL3I2Sa9QsSSdgJJCarNix5MSWb3qkuE0zuGgeGzQ4Q9E46hytHNE6URWfWpk0Z4aW6mguChEEOevzpnCVZY0lijBw8EOzzrwvv8iEjHBOmapF8j7JpA5Ah7hDwQRU9THMstTyW_obfWi_NayLhyvJ167VK9CNacZjk0m39HP14Z3sSe3hKHuXV_UuwsacvdIKv2xCLR0VG_DUkCaAdKMRugO2e-yx7NrcAjl_dmMHCNlcbS7yZuROOuniQUWsST69nAPJkhUSxv1oUAeX82lT5KRbc7i0wOVyDedSeeesnbIN6R9JWDj&itm_campaign=SRC_YPD_TKA_PLA_UNK_ALL_UNK_UNK_UNK_UNK_X.69213_Y.603061_Z.1266186_CN.SUNG-KHU-KHUAN&itm_medium=CPC&itm_source=tiki-ads&reqid=ZiE8Zxwknk&pos=33&redirect=https%3A%2F%2Ftiki.vn%2Fbinh-phun-khu-trung-sat-khuan-binh-xit-dien-khong-day-cam-tay-800ml-khu-trung-sach-vi-khuan-duoi-con-trung-lam-sach-khong-khi-mau-ngau-nhien-p115096332.html%3Fspid%3D115096333']"
      ]
     },
     "execution_count": 12,
     "metadata": {},
     "output_type": "execute_result"
    }
   ],
   "source": [
    "url_list = []\n",
    "for i in range(3, 10):\n",
    "    x_path = f'/html/body/div[1]/div[1]/main/div[2]/div/div[2]/div[1]/div[2]/div[{i}]/a'\n",
    "    url_list.append(extract_url(x_path))\n",
    "    \n",
    "url_list"
   ]
  },
  {
   "cell_type": "code",
   "execution_count": 15,
   "id": "273de899",
   "metadata": {},
   "outputs": [],
   "source": [
    "access_website(url_list[3])"
   ]
  },
  {
   "cell_type": "code",
   "execution_count": 16,
   "id": "4da13f79",
   "metadata": {},
   "outputs": [],
   "source": [
    "img_xpath = '/html/body/div[1]/div[1]/main/div[3]/div[1]/div[1]/div[1]/div[1]/div/div/div/picture/img'\n",
    "download_image(img_xpath, 'Images', 'image_01.png')"
   ]
  },
  {
   "cell_type": "code",
   "execution_count": 19,
   "id": "b6eebe01",
   "metadata": {},
   "outputs": [
    {
     "data": {
      "text/plain": [
       "'Khay đốt nhang muỗi- Lồng đốt nhang muỗi hình lồng chim treo tường- Khay đốt nhang chống muỗi, chọn màu theo ý'"
      ]
     },
     "execution_count": 19,
     "metadata": {},
     "output_type": "execute_result"
    }
   ],
   "source": [
    "title_xpath = '/html/body/div[1]/div[1]/main/div[3]/div[1]/div[3]/div[1]/h1'\n",
    "extract_text(title_xpath)"
   ]
  },
  {
   "cell_type": "code",
   "execution_count": 20,
   "id": "4101bcd6",
   "metadata": {},
   "outputs": [
    {
     "data": {
      "text/plain": [
       "'123.000 ₫'"
      ]
     },
     "execution_count": 20,
     "metadata": {},
     "output_type": "execute_result"
    }
   ],
   "source": [
    "price_xpath = '/html/body/div[1]/div[1]/main/div[3]/div[1]/div[3]/div[2]/div[1]/div[1]/div[1]/div/div[1]'\n",
    "extract_text(price_xpath)"
   ]
  },
  {
   "cell_type": "code",
   "execution_count": 25,
   "id": "5a598a3a",
   "metadata": {},
   "outputs": [
    {
     "name": "stdout",
     "output_type": "stream",
     "text": [
      "video format\n",
      "video format\n",
      "video format\n"
     ]
    }
   ],
   "source": [
    "title = []\n",
    "price = []\n",
    "\n",
    "for i in range(len(url_list)):\n",
    "    access_website(url_list[i])\n",
    "    try:\n",
    "        download_image(img_xpath, 'Images', f'image_{str(i).zfill(2)}.png')\n",
    "    except:\n",
    "        print('video format')\n",
    "        \n",
    "    title.append(extract_text(title_xpath))\n",
    "    price.append(extract_text(price_xpath))\n",
    "    sleep(2)"
   ]
  },
  {
   "cell_type": "code",
   "execution_count": 26,
   "id": "3b28a668",
   "metadata": {},
   "outputs": [
    {
     "data": {
      "text/plain": [
       "['Combo 5 miếng keo dính chuột siêu dính',\n",
       " '43.000 ₫',\n",
       " 'Bẫy chuột thông minh FABUTA tự động bằng ván trượt có thể sử dụng nhiều lần',\n",
       " '82.000 ₫',\n",
       " 'Máy Bắt Ruồi Tự Động Thông Minh Edoo YD-218',\n",
       " '145.000 ₫',\n",
       " 'Khay đốt nhang muỗi- Lồng đốt nhang muỗi hình lồng chim treo tường- Khay đốt nhang chống muỗi, chọn màu theo ý',\n",
       " '123.000 ₫',\n",
       " 'Máy Đuổi Muỗi Bằng Sóng Siêu Âm - Máy Đuổi Muỗi Điện Tử - Máy Đuổi Côn Trùng Tiện Lợi - K1107',\n",
       " '161.000 ₫',\n",
       " 'Máy Đuổi Chuột Trong Nhà An Toàn',\n",
       " '69.000 ₫',\n",
       " 'Bình phun khử trùng sát khuẩn , bình xịt điện không dây cầm tay 800ml , khử trùng sạch vi khuẩn , đuổi côn trùng làm sạch không khí - MÀU NGẪU NHIÊN',\n",
       " '211.860 ₫']"
      ]
     },
     "execution_count": 26,
     "metadata": {},
     "output_type": "execute_result"
    }
   ],
   "source": [
    "title"
   ]
  },
  {
   "cell_type": "code",
   "execution_count": 29,
   "id": "f1437f9f",
   "metadata": {},
   "outputs": [],
   "source": [
    "access_website(f'https://tiki.vn/search?q=b%E1%BA%ABy+ch%E1%BB%93n&page={5}')"
   ]
  },
  {
   "cell_type": "code",
   "execution_count": null,
   "id": "649c795c",
   "metadata": {},
   "outputs": [],
   "source": [
    "SessionNotCreatedException: Message: Expected browser binary location, but unable to find binary in default location, no 'moz:firefoxOptions.binary' capability provided, and no binary flag set on the command line\n",
    "        \n",
    "        'unicodeescape' codec can't decode bytes in position 2-3: truncated \\UXXXXXXXX escape\n",
    "Message: Expected browser binary location, but unable to find binary in default location, no 'moz:firefoxOptions.binary' capability provided, and no binary flag set on the command line\n",
    "    \n",
    "    WebDriverException: Message: 'geckodriver-v0.30.0-win64' executable may have wrong permissions."
   ]
  }
 ],
 "metadata": {
  "kernelspec": {
   "display_name": "Python 3 (ipykernel)",
   "language": "python",
   "name": "python3"
  },
  "language_info": {
   "codemirror_mode": {
    "name": "ipython",
    "version": 3
   },
   "file_extension": ".py",
   "mimetype": "text/x-python",
   "name": "python",
   "nbconvert_exporter": "python",
   "pygments_lexer": "ipython3",
   "version": "3.8.12"
  }
 },
 "nbformat": 4,
 "nbformat_minor": 5
}
