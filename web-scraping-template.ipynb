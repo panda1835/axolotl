{
 "cells": [
  {
   "cell_type": "code",
   "execution_count": 36,
   "id": "52c4548d",
   "metadata": {},
   "outputs": [],
   "source": [
    "from selenium import webdriver\n",
    "from time import sleep\n",
    "import urllib\n",
    "import os\n",
    "from selenium.webdriver.common.keys import Keys"
   ]
  },
  {
   "cell_type": "code",
   "execution_count": null,
   "id": "ef6c4216",
   "metadata": {},
   "outputs": [],
   "source": [
    "browser = webdriver.Firefox(executable_path = './geckodriver')"
   ]
  },
  {
   "cell_type": "code",
   "execution_count": 47,
   "id": "69a57909",
   "metadata": {},
   "outputs": [],
   "source": [
    "def extract_text(xpath):\n",
    "    return browser.find_element_by_xpath(xpath).text()\n",
    "\n",
    "def click_button(xpath):\n",
    "    browser.find_element_by_xpath(xpath).click()\n",
    "    \n",
    "def extract_url(xpath):\n",
    "    return browser.find_element_by_xpath(xpath).get_attribute('href')\n",
    "\n",
    "def access_website(url):\n",
    "    browser.get(url)\n",
    "\n",
    "def scroll_down(height, bottom=False):\n",
    "    if bottom:\n",
    "        browser.execute_script(\"window.scrollTo(0, document.body.scrollHeight);\")\n",
    "    else:\n",
    "        browser.execute_script(f\"window.scrollTo(0, {height})\") \n",
    "\n",
    "def previous_page():\n",
    "    browser.back()\n",
    "    \n",
    "def download_image(xpath, folder_name, img_name):\n",
    "    img_path = os.path.join(folder_name, img_name)\n",
    "    src = browser.find_element_by_xpath(xpath).get_attribute('src')\n",
    "    urllib.request.urlretrieve(src, img_path)\n",
    "    \n",
    "def insert_to_textbox(xpath, content):\n",
    "    browser.find_element_by_xpath(xpath).send_keys(content)\n",
    "    \n",
    "def hit_Enter(xpath):\n",
    "    browser.find_element_by_xpath(xpath).send_keys(Keys.ENTER)"
   ]
  },
  {
   "cell_type": "code",
   "execution_count": null,
   "id": "dbb9ecf4",
   "metadata": {},
   "outputs": [],
   "source": []
  }
 ],
 "metadata": {
  "kernelspec": {
   "display_name": "Python 3 (ipykernel)",
   "language": "python",
   "name": "python3"
  },
  "language_info": {
   "codemirror_mode": {
    "name": "ipython",
    "version": 3
   },
   "file_extension": ".py",
   "mimetype": "text/x-python",
   "name": "python",
   "nbconvert_exporter": "python",
   "pygments_lexer": "ipython3",
   "version": "3.8.12"
  }
 },
 "nbformat": 4,
 "nbformat_minor": 5
}
