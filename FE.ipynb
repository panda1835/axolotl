{
 "cells": [
  {
   "cell_type": "code",
   "execution_count": 1,
   "id": "bab89210",
   "metadata": {},
   "outputs": [
    {
     "name": "stderr",
     "output_type": "stream",
     "text": [
      "/Users/phucle/miniconda3/envs/budget-dashboard/lib/python3.9/site-packages/dash_bootstrap_components/_table.py:5: UserWarning: \n",
      "The dash_html_components package is deprecated. Please replace\n",
      "`import dash_html_components as html` with `from dash import html`\n",
      "  import dash_html_components as html\n"
     ]
    }
   ],
   "source": [
    "import pandas as pd                       #to perform data manipulation and analysis\n",
    "import numpy as np                        #to cleanse data\n",
    "from datetime import datetime             #to manipulate dates\n",
    "import plotly.express as px               #to create interactive charts\n",
    "# import plotly.graph_objects as go         #to create interactive charts\n",
    "from jupyter_dash import JupyterDash      #to build Dash apps from Jupyter environments\n",
    "from dash import dcc        #to get components for interactive user interfaces\n",
    "from dash import html       #to compose the dash layout using Python structures\n",
    "import dash_bootstrap_components as dbc\n",
    "from dash.dependencies import Input, Output, State\n",
    "import datetime\n",
    "from dash import dash_table\n",
    "import json\n",
    "import calendar\n",
    "import dash_leaflet as dl\n",
    "\n"
   ]
  },
  {
   "cell_type": "code",
   "execution_count": 2,
   "id": "0a125953",
   "metadata": {},
   "outputs": [],
   "source": [
    "location_database = pd.read_csv('data_file.csv')"
   ]
  },
  {
   "cell_type": "code",
   "execution_count": 3,
   "id": "80a9def1",
   "metadata": {},
   "outputs": [],
   "source": [
    "# declare today\n",
    "today_date = datetime.datetime.now().strftime(\"%d\").zfill(2)\n",
    "today_month = datetime.datetime.now().strftime(\"%m\").zfill(2)\n",
    "today_month_EN = datetime.datetime.now().strftime(\"%B\")\n",
    "today_year = datetime.datetime.now().strftime(\"%Y\")"
   ]
  },
  {
   "cell_type": "code",
   "execution_count": 4,
   "id": "8181e770",
   "metadata": {},
   "outputs": [],
   "source": [
    "def get_last_day_of_month(year, month):\n",
    "    return calendar.monthrange(year, month)[1]"
   ]
  },
  {
   "cell_type": "code",
   "execution_count": 5,
   "id": "8186fa97",
   "metadata": {},
   "outputs": [],
   "source": [
    "def display_map(location_database):\n",
    "    px.set_mapbox_access_token('pk.eyJ1IjoibGFtbGVvMDMwOCIsImEiOiJja3Z5bmlxMm85YXJ6MzBxcG82cm5ndTZjIn0.dKy0r5isHevflHEBb5REyQ')\n",
    "\n",
    "    fig = px.scatter_mapbox(\n",
    "        location_database,\n",
    "        lat=location_database.lat,\n",
    "        lon=location_database.lon,\n",
    "        hover_name = \"location\",\n",
    "        zoom=4,\n",
    "        mapbox_style = 'mapbox://styles/mapbox/streets-v11'\n",
    "    )\n",
    "\n",
    "    fig.update_layout(height=int(800))\n",
    "    return fig\n"
   ]
  },
  {
   "cell_type": "code",
   "execution_count": 53,
   "id": "99f2ffb3",
   "metadata": {},
   "outputs": [
    {
     "data": {
      "text/html": [
       "<div>\n",
       "<style scoped>\n",
       "    .dataframe tbody tr th:only-of-type {\n",
       "        vertical-align: middle;\n",
       "    }\n",
       "\n",
       "    .dataframe tbody tr th {\n",
       "        vertical-align: top;\n",
       "    }\n",
       "\n",
       "    .dataframe thead th {\n",
       "        text-align: right;\n",
       "    }\n",
       "</style>\n",
       "<table border=\"1\" class=\"dataframe\">\n",
       "  <thead>\n",
       "    <tr style=\"text-align: right;\">\n",
       "      <th></th>\n",
       "      <th>issue_num</th>\n",
       "      <th>occurrence_time</th>\n",
       "      <th>tinh_thanhphotrunguong</th>\n",
       "      <th>thanhpho_huyen</th>\n",
       "      <th>phuong_xa</th>\n",
       "      <th>sci_name</th>\n",
       "      <th>num_animal</th>\n",
       "      <th>object</th>\n",
       "      <th>volume</th>\n",
       "      <th>online_offline</th>\n",
       "      <th>category_broad</th>\n",
       "      <th>location</th>\n",
       "    </tr>\n",
       "  </thead>\n",
       "  <tbody>\n",
       "    <tr>\n",
       "      <th>0</th>\n",
       "      <td>2015</td>\n",
       "      <td>2015-06-25</td>\n",
       "      <td>Tỉnh Bà Rịa - Vũng Tàu</td>\n",
       "      <td>NaN</td>\n",
       "      <td>NaN</td>\n",
       "      <td>macaque</td>\n",
       "      <td>1.0</td>\n",
       "      <td>NaN</td>\n",
       "      <td>NaN</td>\n",
       "      <td>offline</td>\n",
       "      <td>Storing</td>\n",
       "      <td>NaN</td>\n",
       "    </tr>\n",
       "    <tr>\n",
       "      <th>1</th>\n",
       "      <td>2015</td>\n",
       "      <td>2015-04-20</td>\n",
       "      <td>Tỉnh Bạc Liêu</td>\n",
       "      <td>NaN</td>\n",
       "      <td>NaN</td>\n",
       "      <td>Chelonia mydas</td>\n",
       "      <td>1.0</td>\n",
       "      <td>NaN</td>\n",
       "      <td>NaN</td>\n",
       "      <td>offline</td>\n",
       "      <td>Storing</td>\n",
       "      <td>NaN</td>\n",
       "    </tr>\n",
       "    <tr>\n",
       "      <th>2</th>\n",
       "      <td>2015</td>\n",
       "      <td>2015-04-08</td>\n",
       "      <td>Tỉnh Bình Thuận</td>\n",
       "      <td>NaN</td>\n",
       "      <td>NaN</td>\n",
       "      <td>Chelonia mydas</td>\n",
       "      <td>1.0</td>\n",
       "      <td>NaN</td>\n",
       "      <td>NaN</td>\n",
       "      <td>NaN</td>\n",
       "      <td>Consumpsion</td>\n",
       "      <td>NaN</td>\n",
       "    </tr>\n",
       "    <tr>\n",
       "      <th>3</th>\n",
       "      <td>2015</td>\n",
       "      <td>2015-05-13</td>\n",
       "      <td>Tỉnh Bình Phước</td>\n",
       "      <td>NaN</td>\n",
       "      <td>NaN</td>\n",
       "      <td>Nomascus gabriellae</td>\n",
       "      <td>1.0</td>\n",
       "      <td>NaN</td>\n",
       "      <td>NaN</td>\n",
       "      <td>NaN</td>\n",
       "      <td>Storing</td>\n",
       "      <td>NaN</td>\n",
       "    </tr>\n",
       "    <tr>\n",
       "      <th>4</th>\n",
       "      <td>2015</td>\n",
       "      <td>2015-03-30</td>\n",
       "      <td>Thành phố Đà Nẵng</td>\n",
       "      <td>Quận Sơn Trà</td>\n",
       "      <td>NaN</td>\n",
       "      <td>Pygathrix nemaeus</td>\n",
       "      <td>3.0</td>\n",
       "      <td>NaN</td>\n",
       "      <td>NaN</td>\n",
       "      <td>NaN</td>\n",
       "      <td>Storing</td>\n",
       "      <td>Quận Sơn Trà, Thành phố Đà Nẵng</td>\n",
       "    </tr>\n",
       "    <tr>\n",
       "      <th>...</th>\n",
       "      <td>...</td>\n",
       "      <td>...</td>\n",
       "      <td>...</td>\n",
       "      <td>...</td>\n",
       "      <td>...</td>\n",
       "      <td>...</td>\n",
       "      <td>...</td>\n",
       "      <td>...</td>\n",
       "      <td>...</td>\n",
       "      <td>...</td>\n",
       "      <td>...</td>\n",
       "      <td>...</td>\n",
       "    </tr>\n",
       "    <tr>\n",
       "      <th>494</th>\n",
       "      <td>1 / 2021</td>\n",
       "      <td>2019-09-17</td>\n",
       "      <td>NaN</td>\n",
       "      <td>NaN</td>\n",
       "      <td>NaN</td>\n",
       "      <td>Paguma larvata</td>\n",
       "      <td>1.0</td>\n",
       "      <td>NaN</td>\n",
       "      <td>NaN</td>\n",
       "      <td>offline</td>\n",
       "      <td>Trading</td>\n",
       "      <td>NaN</td>\n",
       "    </tr>\n",
       "    <tr>\n",
       "      <th>495</th>\n",
       "      <td>1 / 2021</td>\n",
       "      <td>2019-09-17</td>\n",
       "      <td>NaN</td>\n",
       "      <td>NaN</td>\n",
       "      <td>NaN</td>\n",
       "      <td>Paradoxurus hermaphroditus</td>\n",
       "      <td>1.0</td>\n",
       "      <td>NaN</td>\n",
       "      <td>NaN</td>\n",
       "      <td>offline</td>\n",
       "      <td>Trading</td>\n",
       "      <td>NaN</td>\n",
       "    </tr>\n",
       "    <tr>\n",
       "      <th>496</th>\n",
       "      <td>1 / 2021</td>\n",
       "      <td>2020-08-03</td>\n",
       "      <td>Tỉnh An Giang</td>\n",
       "      <td>Huyện Tịnh Biên</td>\n",
       "      <td>NaN</td>\n",
       "      <td>stork</td>\n",
       "      <td>15.0</td>\n",
       "      <td>NaN</td>\n",
       "      <td>NaN</td>\n",
       "      <td>offline</td>\n",
       "      <td>Hunting</td>\n",
       "      <td>Huyện Tịnh Biên, Tỉnh An Giang</td>\n",
       "    </tr>\n",
       "    <tr>\n",
       "      <th>497</th>\n",
       "      <td>1 / 2021</td>\n",
       "      <td>2020-07-08</td>\n",
       "      <td>Tỉnh Bà Rịa - Vũng Tàu</td>\n",
       "      <td>NaN</td>\n",
       "      <td>NaN</td>\n",
       "      <td>Paradoxurus hermaphroditus</td>\n",
       "      <td>2.0</td>\n",
       "      <td>NaN</td>\n",
       "      <td>NaN</td>\n",
       "      <td>offline</td>\n",
       "      <td>Consumpsion</td>\n",
       "      <td>NaN</td>\n",
       "    </tr>\n",
       "    <tr>\n",
       "      <th>498</th>\n",
       "      <td>1 / 2021</td>\n",
       "      <td>2020-09-24</td>\n",
       "      <td>Tỉnh Bắc Kạn</td>\n",
       "      <td>Huyện Ngân Sơn</td>\n",
       "      <td>NaN</td>\n",
       "      <td>Lophuranycthemera</td>\n",
       "      <td>2.0</td>\n",
       "      <td>NaN</td>\n",
       "      <td>NaN</td>\n",
       "      <td>offline</td>\n",
       "      <td>Trading</td>\n",
       "      <td>Huyện Ngân Sơn, Tỉnh Bắc Kạn</td>\n",
       "    </tr>\n",
       "  </tbody>\n",
       "</table>\n",
       "<p>499 rows × 12 columns</p>\n",
       "</div>"
      ],
      "text/plain": [
       "    issue_num occurrence_time  tinh_thanhphotrunguong   thanhpho_huyen  \\\n",
       "0        2015      2015-06-25  Tỉnh Bà Rịa - Vũng Tàu              NaN   \n",
       "1        2015      2015-04-20           Tỉnh Bạc Liêu              NaN   \n",
       "2        2015      2015-04-08         Tỉnh Bình Thuận              NaN   \n",
       "3        2015      2015-05-13         Tỉnh Bình Phước              NaN   \n",
       "4        2015      2015-03-30       Thành phố Đà Nẵng     Quận Sơn Trà   \n",
       "..        ...             ...                     ...              ...   \n",
       "494  1 / 2021      2019-09-17                     NaN              NaN   \n",
       "495  1 / 2021      2019-09-17                     NaN              NaN   \n",
       "496  1 / 2021      2020-08-03           Tỉnh An Giang  Huyện Tịnh Biên   \n",
       "497  1 / 2021      2020-07-08  Tỉnh Bà Rịa - Vũng Tàu              NaN   \n",
       "498  1 / 2021      2020-09-24            Tỉnh Bắc Kạn   Huyện Ngân Sơn   \n",
       "\n",
       "    phuong_xa                    sci_name  num_animal object volume  \\\n",
       "0         NaN                     macaque         1.0    NaN    NaN   \n",
       "1         NaN              Chelonia mydas         1.0    NaN    NaN   \n",
       "2         NaN              Chelonia mydas         1.0    NaN    NaN   \n",
       "3         NaN         Nomascus gabriellae         1.0    NaN    NaN   \n",
       "4         NaN           Pygathrix nemaeus         3.0    NaN    NaN   \n",
       "..        ...                         ...         ...    ...    ...   \n",
       "494       NaN              Paguma larvata         1.0    NaN    NaN   \n",
       "495       NaN  Paradoxurus hermaphroditus         1.0    NaN    NaN   \n",
       "496       NaN                       stork        15.0    NaN    NaN   \n",
       "497       NaN  Paradoxurus hermaphroditus         2.0    NaN    NaN   \n",
       "498       NaN           Lophuranycthemera         2.0    NaN    NaN   \n",
       "\n",
       "    online_offline category_broad                         location  \n",
       "0          offline        Storing                              NaN  \n",
       "1          offline        Storing                              NaN  \n",
       "2              NaN    Consumpsion                              NaN  \n",
       "3              NaN        Storing                              NaN  \n",
       "4              NaN        Storing  Quận Sơn Trà, Thành phố Đà Nẵng  \n",
       "..             ...            ...                              ...  \n",
       "494        offline        Trading                              NaN  \n",
       "495        offline        Trading                              NaN  \n",
       "496        offline        Hunting   Huyện Tịnh Biên, Tỉnh An Giang  \n",
       "497        offline    Consumpsion                              NaN  \n",
       "498        offline        Trading     Huyện Ngân Sơn, Tỉnh Bắc Kạn  \n",
       "\n",
       "[499 rows x 12 columns]"
      ]
     },
     "execution_count": 53,
     "metadata": {},
     "output_type": "execute_result"
    }
   ],
   "source": [
    "database"
   ]
  },
  {
   "cell_type": "code",
   "execution_count": 72,
   "id": "c7ba37cf",
   "metadata": {},
   "outputs": [
    {
     "data": {
      "application/vnd.plotly.v1+json": {
       "config": {
        "plotlyServerURL": "https://plot.ly"
       },
       "data": [
        {
         "hovertemplate": "Tháng=%{x}<br>Số vi phạm=%{y}<extra></extra>",
         "legendgroup": "",
         "line": {
          "color": "#636efa",
          "dash": "solid"
         },
         "marker": {
          "symbol": "circle"
         },
         "mode": "lines",
         "name": "",
         "orientation": "v",
         "showlegend": false,
         "type": "scatter",
         "x": [
          "2014-12",
          "2015-01",
          "2015-03",
          "2015-04",
          "2015-05",
          "2015-06",
          "2015-08",
          "2015-12",
          "2016-01",
          "2016-02",
          "2016-03",
          "2016-04",
          "2016-05",
          "2016-06",
          "2016-07",
          "2016-08",
          "2016-09",
          "2016-10",
          "2016-11",
          "2016-12",
          "2017-04",
          "2017-07",
          "2018-02",
          "2018-04",
          "2018-06",
          "2018-07",
          "2018-09",
          "2018-10",
          "2018-11",
          "2018-12",
          "2019-01",
          "2019-02",
          "2019-03",
          "2019-04",
          "2019-05",
          "2019-06",
          "2019-07",
          "2019-08",
          "2019-09",
          "2019-10",
          "2019-11",
          "2019-12",
          "2020-01",
          "2020-03",
          "2020-05",
          "2020-06",
          "2020-07",
          "2020-08",
          "2020-09"
         ],
         "xaxis": "x",
         "y": [
          1,
          2,
          3,
          2,
          1,
          1,
          1,
          3,
          10,
          3,
          11,
          7,
          12,
          9,
          5,
          6,
          19,
          22,
          27,
          16,
          2,
          1,
          1,
          1,
          1,
          1,
          1,
          1,
          3,
          19,
          16,
          2,
          9,
          12,
          10,
          13,
          13,
          3,
          8,
          8,
          3,
          17,
          1,
          5,
          1,
          3,
          2,
          4,
          4
         ],
         "yaxis": "y"
        }
       ],
       "layout": {
        "legend": {
         "tracegroupgap": 0
        },
        "template": {
         "data": {
          "bar": [
           {
            "error_x": {
             "color": "#2a3f5f"
            },
            "error_y": {
             "color": "#2a3f5f"
            },
            "marker": {
             "line": {
              "color": "#E5ECF6",
              "width": 0.5
             },
             "pattern": {
              "fillmode": "overlay",
              "size": 10,
              "solidity": 0.2
             }
            },
            "type": "bar"
           }
          ],
          "barpolar": [
           {
            "marker": {
             "line": {
              "color": "#E5ECF6",
              "width": 0.5
             },
             "pattern": {
              "fillmode": "overlay",
              "size": 10,
              "solidity": 0.2
             }
            },
            "type": "barpolar"
           }
          ],
          "carpet": [
           {
            "aaxis": {
             "endlinecolor": "#2a3f5f",
             "gridcolor": "white",
             "linecolor": "white",
             "minorgridcolor": "white",
             "startlinecolor": "#2a3f5f"
            },
            "baxis": {
             "endlinecolor": "#2a3f5f",
             "gridcolor": "white",
             "linecolor": "white",
             "minorgridcolor": "white",
             "startlinecolor": "#2a3f5f"
            },
            "type": "carpet"
           }
          ],
          "choropleth": [
           {
            "colorbar": {
             "outlinewidth": 0,
             "ticks": ""
            },
            "type": "choropleth"
           }
          ],
          "contour": [
           {
            "colorbar": {
             "outlinewidth": 0,
             "ticks": ""
            },
            "colorscale": [
             [
              0,
              "#0d0887"
             ],
             [
              0.1111111111111111,
              "#46039f"
             ],
             [
              0.2222222222222222,
              "#7201a8"
             ],
             [
              0.3333333333333333,
              "#9c179e"
             ],
             [
              0.4444444444444444,
              "#bd3786"
             ],
             [
              0.5555555555555556,
              "#d8576b"
             ],
             [
              0.6666666666666666,
              "#ed7953"
             ],
             [
              0.7777777777777778,
              "#fb9f3a"
             ],
             [
              0.8888888888888888,
              "#fdca26"
             ],
             [
              1,
              "#f0f921"
             ]
            ],
            "type": "contour"
           }
          ],
          "contourcarpet": [
           {
            "colorbar": {
             "outlinewidth": 0,
             "ticks": ""
            },
            "type": "contourcarpet"
           }
          ],
          "heatmap": [
           {
            "colorbar": {
             "outlinewidth": 0,
             "ticks": ""
            },
            "colorscale": [
             [
              0,
              "#0d0887"
             ],
             [
              0.1111111111111111,
              "#46039f"
             ],
             [
              0.2222222222222222,
              "#7201a8"
             ],
             [
              0.3333333333333333,
              "#9c179e"
             ],
             [
              0.4444444444444444,
              "#bd3786"
             ],
             [
              0.5555555555555556,
              "#d8576b"
             ],
             [
              0.6666666666666666,
              "#ed7953"
             ],
             [
              0.7777777777777778,
              "#fb9f3a"
             ],
             [
              0.8888888888888888,
              "#fdca26"
             ],
             [
              1,
              "#f0f921"
             ]
            ],
            "type": "heatmap"
           }
          ],
          "heatmapgl": [
           {
            "colorbar": {
             "outlinewidth": 0,
             "ticks": ""
            },
            "colorscale": [
             [
              0,
              "#0d0887"
             ],
             [
              0.1111111111111111,
              "#46039f"
             ],
             [
              0.2222222222222222,
              "#7201a8"
             ],
             [
              0.3333333333333333,
              "#9c179e"
             ],
             [
              0.4444444444444444,
              "#bd3786"
             ],
             [
              0.5555555555555556,
              "#d8576b"
             ],
             [
              0.6666666666666666,
              "#ed7953"
             ],
             [
              0.7777777777777778,
              "#fb9f3a"
             ],
             [
              0.8888888888888888,
              "#fdca26"
             ],
             [
              1,
              "#f0f921"
             ]
            ],
            "type": "heatmapgl"
           }
          ],
          "histogram": [
           {
            "marker": {
             "pattern": {
              "fillmode": "overlay",
              "size": 10,
              "solidity": 0.2
             }
            },
            "type": "histogram"
           }
          ],
          "histogram2d": [
           {
            "colorbar": {
             "outlinewidth": 0,
             "ticks": ""
            },
            "colorscale": [
             [
              0,
              "#0d0887"
             ],
             [
              0.1111111111111111,
              "#46039f"
             ],
             [
              0.2222222222222222,
              "#7201a8"
             ],
             [
              0.3333333333333333,
              "#9c179e"
             ],
             [
              0.4444444444444444,
              "#bd3786"
             ],
             [
              0.5555555555555556,
              "#d8576b"
             ],
             [
              0.6666666666666666,
              "#ed7953"
             ],
             [
              0.7777777777777778,
              "#fb9f3a"
             ],
             [
              0.8888888888888888,
              "#fdca26"
             ],
             [
              1,
              "#f0f921"
             ]
            ],
            "type": "histogram2d"
           }
          ],
          "histogram2dcontour": [
           {
            "colorbar": {
             "outlinewidth": 0,
             "ticks": ""
            },
            "colorscale": [
             [
              0,
              "#0d0887"
             ],
             [
              0.1111111111111111,
              "#46039f"
             ],
             [
              0.2222222222222222,
              "#7201a8"
             ],
             [
              0.3333333333333333,
              "#9c179e"
             ],
             [
              0.4444444444444444,
              "#bd3786"
             ],
             [
              0.5555555555555556,
              "#d8576b"
             ],
             [
              0.6666666666666666,
              "#ed7953"
             ],
             [
              0.7777777777777778,
              "#fb9f3a"
             ],
             [
              0.8888888888888888,
              "#fdca26"
             ],
             [
              1,
              "#f0f921"
             ]
            ],
            "type": "histogram2dcontour"
           }
          ],
          "mesh3d": [
           {
            "colorbar": {
             "outlinewidth": 0,
             "ticks": ""
            },
            "type": "mesh3d"
           }
          ],
          "parcoords": [
           {
            "line": {
             "colorbar": {
              "outlinewidth": 0,
              "ticks": ""
             }
            },
            "type": "parcoords"
           }
          ],
          "pie": [
           {
            "automargin": true,
            "type": "pie"
           }
          ],
          "scatter": [
           {
            "marker": {
             "colorbar": {
              "outlinewidth": 0,
              "ticks": ""
             }
            },
            "type": "scatter"
           }
          ],
          "scatter3d": [
           {
            "line": {
             "colorbar": {
              "outlinewidth": 0,
              "ticks": ""
             }
            },
            "marker": {
             "colorbar": {
              "outlinewidth": 0,
              "ticks": ""
             }
            },
            "type": "scatter3d"
           }
          ],
          "scattercarpet": [
           {
            "marker": {
             "colorbar": {
              "outlinewidth": 0,
              "ticks": ""
             }
            },
            "type": "scattercarpet"
           }
          ],
          "scattergeo": [
           {
            "marker": {
             "colorbar": {
              "outlinewidth": 0,
              "ticks": ""
             }
            },
            "type": "scattergeo"
           }
          ],
          "scattergl": [
           {
            "marker": {
             "colorbar": {
              "outlinewidth": 0,
              "ticks": ""
             }
            },
            "type": "scattergl"
           }
          ],
          "scattermapbox": [
           {
            "marker": {
             "colorbar": {
              "outlinewidth": 0,
              "ticks": ""
             }
            },
            "type": "scattermapbox"
           }
          ],
          "scatterpolar": [
           {
            "marker": {
             "colorbar": {
              "outlinewidth": 0,
              "ticks": ""
             }
            },
            "type": "scatterpolar"
           }
          ],
          "scatterpolargl": [
           {
            "marker": {
             "colorbar": {
              "outlinewidth": 0,
              "ticks": ""
             }
            },
            "type": "scatterpolargl"
           }
          ],
          "scatterternary": [
           {
            "marker": {
             "colorbar": {
              "outlinewidth": 0,
              "ticks": ""
             }
            },
            "type": "scatterternary"
           }
          ],
          "surface": [
           {
            "colorbar": {
             "outlinewidth": 0,
             "ticks": ""
            },
            "colorscale": [
             [
              0,
              "#0d0887"
             ],
             [
              0.1111111111111111,
              "#46039f"
             ],
             [
              0.2222222222222222,
              "#7201a8"
             ],
             [
              0.3333333333333333,
              "#9c179e"
             ],
             [
              0.4444444444444444,
              "#bd3786"
             ],
             [
              0.5555555555555556,
              "#d8576b"
             ],
             [
              0.6666666666666666,
              "#ed7953"
             ],
             [
              0.7777777777777778,
              "#fb9f3a"
             ],
             [
              0.8888888888888888,
              "#fdca26"
             ],
             [
              1,
              "#f0f921"
             ]
            ],
            "type": "surface"
           }
          ],
          "table": [
           {
            "cells": {
             "fill": {
              "color": "#EBF0F8"
             },
             "line": {
              "color": "white"
             }
            },
            "header": {
             "fill": {
              "color": "#C8D4E3"
             },
             "line": {
              "color": "white"
             }
            },
            "type": "table"
           }
          ]
         },
         "layout": {
          "annotationdefaults": {
           "arrowcolor": "#2a3f5f",
           "arrowhead": 0,
           "arrowwidth": 1
          },
          "autotypenumbers": "strict",
          "coloraxis": {
           "colorbar": {
            "outlinewidth": 0,
            "ticks": ""
           }
          },
          "colorscale": {
           "diverging": [
            [
             0,
             "#8e0152"
            ],
            [
             0.1,
             "#c51b7d"
            ],
            [
             0.2,
             "#de77ae"
            ],
            [
             0.3,
             "#f1b6da"
            ],
            [
             0.4,
             "#fde0ef"
            ],
            [
             0.5,
             "#f7f7f7"
            ],
            [
             0.6,
             "#e6f5d0"
            ],
            [
             0.7,
             "#b8e186"
            ],
            [
             0.8,
             "#7fbc41"
            ],
            [
             0.9,
             "#4d9221"
            ],
            [
             1,
             "#276419"
            ]
           ],
           "sequential": [
            [
             0,
             "#0d0887"
            ],
            [
             0.1111111111111111,
             "#46039f"
            ],
            [
             0.2222222222222222,
             "#7201a8"
            ],
            [
             0.3333333333333333,
             "#9c179e"
            ],
            [
             0.4444444444444444,
             "#bd3786"
            ],
            [
             0.5555555555555556,
             "#d8576b"
            ],
            [
             0.6666666666666666,
             "#ed7953"
            ],
            [
             0.7777777777777778,
             "#fb9f3a"
            ],
            [
             0.8888888888888888,
             "#fdca26"
            ],
            [
             1,
             "#f0f921"
            ]
           ],
           "sequentialminus": [
            [
             0,
             "#0d0887"
            ],
            [
             0.1111111111111111,
             "#46039f"
            ],
            [
             0.2222222222222222,
             "#7201a8"
            ],
            [
             0.3333333333333333,
             "#9c179e"
            ],
            [
             0.4444444444444444,
             "#bd3786"
            ],
            [
             0.5555555555555556,
             "#d8576b"
            ],
            [
             0.6666666666666666,
             "#ed7953"
            ],
            [
             0.7777777777777778,
             "#fb9f3a"
            ],
            [
             0.8888888888888888,
             "#fdca26"
            ],
            [
             1,
             "#f0f921"
            ]
           ]
          },
          "colorway": [
           "#636efa",
           "#EF553B",
           "#00cc96",
           "#ab63fa",
           "#FFA15A",
           "#19d3f3",
           "#FF6692",
           "#B6E880",
           "#FF97FF",
           "#FECB52"
          ],
          "font": {
           "color": "#2a3f5f"
          },
          "geo": {
           "bgcolor": "white",
           "lakecolor": "white",
           "landcolor": "#E5ECF6",
           "showlakes": true,
           "showland": true,
           "subunitcolor": "white"
          },
          "hoverlabel": {
           "align": "left"
          },
          "hovermode": "closest",
          "mapbox": {
           "style": "light"
          },
          "paper_bgcolor": "white",
          "plot_bgcolor": "#E5ECF6",
          "polar": {
           "angularaxis": {
            "gridcolor": "white",
            "linecolor": "white",
            "ticks": ""
           },
           "bgcolor": "#E5ECF6",
           "radialaxis": {
            "gridcolor": "white",
            "linecolor": "white",
            "ticks": ""
           }
          },
          "scene": {
           "xaxis": {
            "backgroundcolor": "#E5ECF6",
            "gridcolor": "white",
            "gridwidth": 2,
            "linecolor": "white",
            "showbackground": true,
            "ticks": "",
            "zerolinecolor": "white"
           },
           "yaxis": {
            "backgroundcolor": "#E5ECF6",
            "gridcolor": "white",
            "gridwidth": 2,
            "linecolor": "white",
            "showbackground": true,
            "ticks": "",
            "zerolinecolor": "white"
           },
           "zaxis": {
            "backgroundcolor": "#E5ECF6",
            "gridcolor": "white",
            "gridwidth": 2,
            "linecolor": "white",
            "showbackground": true,
            "ticks": "",
            "zerolinecolor": "white"
           }
          },
          "shapedefaults": {
           "line": {
            "color": "#2a3f5f"
           }
          },
          "ternary": {
           "aaxis": {
            "gridcolor": "white",
            "linecolor": "white",
            "ticks": ""
           },
           "baxis": {
            "gridcolor": "white",
            "linecolor": "white",
            "ticks": ""
           },
           "bgcolor": "#E5ECF6",
           "caxis": {
            "gridcolor": "white",
            "linecolor": "white",
            "ticks": ""
           }
          },
          "title": {
           "x": 0.05
          },
          "xaxis": {
           "automargin": true,
           "gridcolor": "white",
           "linecolor": "white",
           "ticks": "",
           "title": {
            "standoff": 15
           },
           "zerolinecolor": "white",
           "zerolinewidth": 2
          },
          "yaxis": {
           "automargin": true,
           "gridcolor": "white",
           "linecolor": "white",
           "ticks": "",
           "title": {
            "standoff": 15
           },
           "zerolinecolor": "white",
           "zerolinewidth": 2
          }
         }
        },
        "title": {
         "text": "Giai đoạn 01/12/2014 - 25/09/2020"
        },
        "xaxis": {
         "anchor": "y",
         "domain": [
          0,
          1
         ],
         "title": {
          "text": "Tháng"
         }
        },
        "yaxis": {
         "anchor": "x",
         "domain": [
          0,
          1
         ],
         "title": {
          "text": "Số vi phạm"
         }
        }
       }
      }
     },
     "metadata": {},
     "output_type": "display_data"
    }
   ],
   "source": [
    "def create_plot_for_cases(df):\n",
    "    case_df = df.copy()\n",
    "    case_df['year_month'] = pd.to_datetime(df['occurrence_time']).dt.strftime('%Y-%m')  \n",
    "    first_date = pd.to_datetime(case_df['occurrence_time'].min()).strftime('%d/%m/%Y') \n",
    "    last_date = pd.to_datetime(case_df['occurrence_time'].max()).strftime('%d/%m/%Y') \n",
    "    case_df.drop_duplicates(['occurrence_time', 'tinh_thanhphotrunguong', 'category_broad'], inplace=True)\n",
    "    case_df = case_df.groupby(['year_month']).count().reset_index()\n",
    "    \n",
    "    case_df['Số vi phạm'] = case_df['tinh_thanhphotrunguong']\n",
    "    case_df['Tháng'] = case_df['year_month']\n",
    "    fig = px.line(case_df, x='Tháng', y='Số vi phạm', \n",
    "                  title=f'Giai đoạn {first_date} - {last_date}')\n",
    "    \n",
    "    return fig\n",
    "\n",
    "create_plot_for_cases(database)"
   ]
  },
  {
   "cell_type": "code",
   "execution_count": 19,
   "id": "b94dacee",
   "metadata": {},
   "outputs": [],
   "source": [
    "database = pd.read_csv(\"db_test_final.csv\")\n",
    "\n",
    "database['occurrence_time'] = pd.to_datetime(database['occurrence_time'])\n",
    "\n",
    "database['location'] = database['thanhpho_huyen'] + ', ' + database['tinh_thanhphotrunguong']\n",
    "\n",
    "# declare first date in the df\n",
    "first_day_df = pd.to_datetime(database['occurrence_time']).min()\n",
    "first_day_date = first_day_df.strftime(\"%d\")\n",
    "first_day_month = first_day_df.strftime(\"%m\")\n",
    "first_day_year = first_day_df.strftime(\"%Y\")\n",
    "first_day_df = first_day_df.strftime(\"%Y-%m-%d\")"
   ]
  },
  {
   "cell_type": "code",
   "execution_count": 20,
   "id": "bc1d9c94",
   "metadata": {},
   "outputs": [
    {
     "name": "stdout",
     "output_type": "stream",
     "text": [
      "[nan 'Quận Sơn Trà, Thành phố Đà\\xa0Nẵng'\n",
      " 'Quận Hải Châu, Thành phố Đà\\xa0Nẵng' 'Tư Mơ Rông, Tỉnh Kon Tum'\n",
      " 'Sa Thay, Tỉnh Kon Tum' 'Đà Lạt, Tỉnh Lâm Đồng'\n",
      " 'Quận Tân Thành, Tỉnh Bà Rịa - Vũng Tàu' 'Quận Chợ Đồn, Tỉnh Bắc Kạn'\n",
      " 'Quận Tuỳ Đức, Tỉnh Đắk Nông' 'Quận Duy Tiến, Tỉnh Hà Nam'\n",
      " 'Quận Hương Sơn, Tỉnh Hà Tĩnh' 'Thành phố Nha Trang, Tỉnh Khánh Hoà'\n",
      " 'Huyện Điện Châu, Tỉnh Nghệ An' 'Quận Nghi Lộc, Tỉnh Nghệ An'\n",
      " 'Quận Yên Mô, Tỉnh Ninh Bình' 'Huyện La Gi, Tỉnh Bến Tre'\n",
      " 'Huyện  Vụ Bản , Tỉnh Nam Định' 'Huyện Lạc Thủy, Tỉnh Hòa Bình'\n",
      " 'Thành phố Biên Hoà, Tỉnh Đồng Nai' 'Huyện Bảo Lộc, Tỉnh Lâm Đồng'\n",
      " 'Huyện Sốp Cộp, Tỉnh Quảng Trị' 'Huyện Hướng Hoá, Tỉnh Quảng Trị'\n",
      " 'Huyện Dakrong, Tỉnh Quảng Nam' 'Huyện Quảng Xương, Tỉnh Nghệ An'\n",
      " 'Thành phố Từ Sơn, Tỉnh Bắc Ninh' 'Huyện đảo Phú Quốc, Tỉnh Kiên Giang'\n",
      " 'Huyện Côn Đảo, Tỉnh Bà Rịa Vũng Tàu' 'Quận 9, Thành phố Hồ Chí Minh'\n",
      " 'Huyện Hương Hoà, Tỉnh Quảng Trị']\n"
     ]
    }
   ],
   "source": [
    "display_location = location_database[location_database['location'].isin(database['location'])]\n",
    "# sanity check\n",
    "print(database[~database['location'].isin(location_database['location'])]['location'].unique())"
   ]
  },
  {
   "cell_type": "code",
   "execution_count": 22,
   "id": "09bbab24",
   "metadata": {},
   "outputs": [],
   "source": [
    "district = database['tinh_thanhphotrunguong'].unique()\n",
    "district_list = []\n",
    "for i in district:\n",
    "    if str(i) != 'nan':\n",
    "        try:\n",
    "            district_list.append(i.split('Tỉnh ')[1])\n",
    "        except:\n",
    "            district_list.append(i.split('Thành phố ')[1])\n"
   ]
  },
  {
   "cell_type": "code",
   "execution_count": 82,
   "id": "30fa8131",
   "metadata": {},
   "outputs": [
    {
     "name": "stderr",
     "output_type": "stream",
     "text": [
      "/Users/phucle/miniconda3/envs/budget-dashboard/lib/python3.9/site-packages/jupyter_dash/jupyter_app.py:139: UserWarning:\n",
      "\n",
      "The 'environ['werkzeug.server.shutdown']' function is deprecated and will be removed in Werkzeug 2.1.\n",
      "\n"
     ]
    },
    {
     "name": "stdout",
     "output_type": "stream",
     "text": [
      "Dash app running on http://127.0.0.1:8050/\n"
     ]
    }
   ],
   "source": [
    "import dash_leaflet as dl\n",
    "import dash_leaflet.express as dlx\n",
    "from dash import Dash, html, Output, Input\n",
    "from dash_extensions.javascript import arrow_function\n",
    "from dash_extensions.javascript import assign\n",
    "\n",
    "\n",
    "# Create example app.\n",
    "external_stylesheets = ['https://codepen.io/chriddyp/pen/bWLwgP.css']\n",
    "app = JupyterDash(__name__, external_stylesheets=external_stylesheets)\n",
    "\n",
    "# Generate some in-memory data.\n",
    "geobuf = dlx.geojson_to_geobuf(dlx.dicts_to_geojson([dict(lat=i, lon=j) for i,j in zip(display_location['lat'], display_location['lon'])]))\n",
    "# Create example app.\n",
    "app.layout = html.Div([\n",
    "\n",
    "    html.Div([\n",
    "        html.Div([\n",
    "            html.H1([\n",
    "                \"Wildlife Tracfficking Vietnam\"\n",
    "            ], style={'display': 'inline-block'}),\n",
    "\n",
    "            html.P(f\"Hotline: 1800-1522\", style={'display': 'inline-block', 'float':'right'}),\n",
    "\n",
    "        ]),\n",
    "        \n",
    "\n",
    "        html.Div([\n",
    "            html.Div(\"Từ ngày\", \n",
    "                        style={'width': '100%', \n",
    "                            'height':'50%',\n",
    "                            'display': 'block',\n",
    "                        }),\n",
    "\n",
    "            html.Div([\n",
    "                dcc.Dropdown(\n",
    "                    id=\"start-date-search\",\n",
    "                    options=[{\"label\": str(i).zfill(2), \"value\": str(i).zfill(2)} for i in range(1, 32)],\n",
    "                    value=first_day_date,\n",
    "                    clearable=False\n",
    "                ),\n",
    "            ], style={'width': '25%', 'display': 'inline-block'}),\n",
    "\n",
    "            html.Div([\n",
    "                dcc.Dropdown(\n",
    "                    id=\"start-month-search\",\n",
    "                    options=[{\"label\": 'January'  , \"value\": '01'},\n",
    "                                {\"label\": 'February' , \"value\": '02'},\n",
    "                                {\"label\": 'March'    , \"value\": '03'},\n",
    "                                {\"label\": 'April'    , \"value\": '04'},\n",
    "                                {\"label\": 'May'      , \"value\": '05'},\n",
    "                                {\"label\": 'June'     , \"value\": '06'},\n",
    "                                {\"label\": 'July'     , \"value\": '07'},\n",
    "                                {\"label\": 'August'   , \"value\": '08'},\n",
    "                                {\"label\": 'September', \"value\": '09'},\n",
    "                                {\"label\": 'October'  , \"value\": '10'},\n",
    "                                {\"label\": 'November' , \"value\": '11'},\n",
    "                                {\"label\": 'December' , \"value\": '12'}],\n",
    "                    value=first_day_month,\n",
    "                    clearable=False\n",
    "                ),\n",
    "            ], style={'width': '50%', 'display': 'inline-block'}),\n",
    "\n",
    "            html.Div([\n",
    "                dcc.Dropdown(\n",
    "                    id=\"start-year-search\",\n",
    "                    options=[{\"label\": i  , \"value\": i} for i in range(int(first_day_year), datetime.datetime.now().year+1)],\n",
    "                    value=first_day_year,\n",
    "                    clearable=False\n",
    "                ),\n",
    "            ], style={'width': '25%', 'display': 'inline-block'}),\n",
    "        ], style={'width': '20%', 'display': 'inline-block', 'float':'left'}),\n",
    "        # ----------\n",
    "        \n",
    "        html.Div([\n",
    "            html.Div(\"Đến ngày\", \n",
    "                            style={'width': '100%', \n",
    "                                'height':'50%',\n",
    "                                'display': 'block',\n",
    "                            }),\n",
    "            html.Div([\n",
    "                dcc.Dropdown(\n",
    "                    id=\"end-date-search\",\n",
    "                    options=[{\"label\": str(i).zfill(2), \"value\": str(i).zfill(2)} for i in range(1, 32)],\n",
    "                    value=today_date,\n",
    "                    clearable=False\n",
    "                ),\n",
    "            ], style={'width': '25%', 'display': 'inline-block'}),\n",
    "\n",
    "            html.Div([\n",
    "                dcc.Dropdown(\n",
    "                    id=\"end-month-search\",\n",
    "                    options=[{\"label\": 'January'  , \"value\": '01'},\n",
    "                                {\"label\": 'February' , \"value\": '02'},\n",
    "                                {\"label\": 'March'    , \"value\": '03'},\n",
    "                                {\"label\": 'April'    , \"value\": '04'},\n",
    "                                {\"label\": 'May'      , \"value\": '05'},\n",
    "                                {\"label\": 'June'     , \"value\": '06'},\n",
    "                                {\"label\": 'July'     , \"value\": '07'},\n",
    "                                {\"label\": 'August'   , \"value\": '08'},\n",
    "                                {\"label\": 'September', \"value\": '09'},\n",
    "                                {\"label\": 'October'  , \"value\": '10'},\n",
    "                                {\"label\": 'November' , \"value\": '11'},\n",
    "                                {\"label\": 'December' , \"value\": '12'}],\n",
    "                    value=today_month,\n",
    "                    clearable=False\n",
    "                ),\n",
    "            ], style={'width': '50%', 'display': 'inline-block'}),\n",
    "            \n",
    "            html.Div([\n",
    "                dcc.Dropdown(\n",
    "                    id=\"end-year-search\",\n",
    "                    options=[{\"label\": i  , \"value\": i} for i in range(int(first_day_year), datetime.datetime.now().year+1)],\n",
    "                    value=today_year,\n",
    "                    clearable=False\n",
    "                ),\n",
    "            ], style={'width': '25%', 'display': 'inline-block'})\n",
    "        ], style={'width': '20%', 'display': 'inline-block', 'float':'left'}),\n",
    "        # ---------             \n",
    "\n",
    "        # html.Div([\n",
    "            html.Div([\n",
    "                html.Div(\"Tỉnh / Thành phố\", \n",
    "                        style={\n",
    "                            'width': '100%', \n",
    "                            'height':'50%',\n",
    "                            'display': 'block',\n",
    "                        }),\n",
    "                \n",
    "                dcc.Dropdown(\n",
    "                    id=\"search-district-filter\",\n",
    "                    value='All',\n",
    "                    options=[{\"label\": i, \"value\": i} for i in district_list] + [{\"label\": \"Tất cả\", \"value\": \"All\"}],\n",
    "                    \n",
    "                    clearable=False\n",
    "                ),\n",
    "            ], style={'width': '15%', 'display': 'inline-block', 'float':'left'}),\n",
    "\n",
    "            html.Div([\n",
    "                html.Div(\"Nhóm loài động vật\", \n",
    "                        style={\n",
    "                            'width': '100%', \n",
    "                            'height':'50%',\n",
    "                            'display': 'block',\n",
    "                        }),\n",
    "                \n",
    "                dcc.Dropdown(\n",
    "                    id=\"search-big-group-filter\",\n",
    "                    value='All',\n",
    "                    options=[\n",
    "                        {\"label\": 'Hổ', \"value\": \"Tigers\"}, \n",
    "                        {\"label\": 'Linh trưởng', \"value\": \"Primates\"}, \n",
    "                        {\"label\": 'Tê tê', \"value\": \"Pangolins\"}, \n",
    "                        {\"label\": 'Gấu', \"value\": \"Bears\"}, \n",
    "                        {\"label\": 'Sừng tê giác', \"value\": \"Rhinos\"}, \n",
    "                        {\"label\": 'Ngà voi', \"value\": \"Elephants\"}, \n",
    "                        {\"label\": 'Thú rừng', \"value\": \"Others\"}, \n",
    "                        {\"label\": 'Chim', \"value\": \"Birds\"}, \n",
    "                        {\"label\": 'Rắn', \"value\": \"Snakes\"}, \n",
    "                    ] + [{\"label\": \"Tất cả\", \"value\": \"All\"}],\n",
    "                    clearable=False\n",
    "                ),\n",
    "            ], style={'width': '10%', 'display': 'inline-block', 'float':'left'}),\n",
    "\n",
    "            html.Div([\n",
    "                \n",
    "                html.Div(\"Loại hành vi phạm tội\", \n",
    "                        style={\n",
    "                            'width': '100%', \n",
    "                            'height':'50%',\n",
    "                            'display': 'block',\n",
    "                        }),\n",
    "                \n",
    "                dcc.Dropdown(\n",
    "                    id=\"search-category-filter\",\n",
    "                    value='All',\n",
    "                    options=[\n",
    "                        {\"label\": 'Tàng trữ', \"value\": \"Storing\"}, \n",
    "                        {\"label\": 'Buôn bán', \"value\": \"Trading\"}, \n",
    "                        {\"label\": 'Quảng cáo', \"value\": \"Advertising\"}, \n",
    "                    ] + [{\"label\": \"Tất cả\", \"value\": \"All\"}],\n",
    "\n",
    "                    clearable=False\n",
    "                ),\n",
    "            ], style={'width': '15%', 'display': 'inline-block', 'float':'left'}),  \n",
    "\n",
    "            html.Div([\n",
    "                dcc.RadioItems(\n",
    "                    id='online-offline',\n",
    "                    options=[\n",
    "                        {'label': 'Offline', 'value': 'offline'},\n",
    "                        {'label': 'Online', 'value': 'online'},\n",
    "                        {'label': 'Cả hai', 'value': 'both'}\n",
    "                    ],\n",
    "                    value='both',\n",
    "                    # labelStyle={'display': 'inline-block', \"float\":\"right\"}\n",
    "                ),\n",
    "            ], style={'width': '10%', 'display': 'inline-block'})\n",
    "\n",
    "        # ]),\n",
    "    ]),\n",
    "\n",
    "\n",
    "    \n",
    "    dl.Map(center=[21.0304271810001, 105.801469498], zoom=5, children=[\n",
    "        dl.TileLayer(),\n",
    "        dl.GeoJSON(data=geobuf, format=\"geobuf\", id=\"locations\"),  # geojson resource (faster than in-memory)\n",
    "        \n",
    "    ], style={'width': '50%', 'height': '80vh', 'margin': \"auto\", \"display\": \"inline-block\"}, id=\"map\"),\n",
    "\n",
    "    \n",
    "    html.Div([\n",
    "        html.Div(id='total', style={'display':'block', 'height':'50vh'}),\n",
    "        \n",
    "        html.Div(id=\"detail\")\n",
    "\n",
    "    ], style={'width': '50%', 'height': '50vh', 'margin': \"auto\", \"display\": \"inline-block\", 'float':'right'}), \n",
    "\n",
    "    dash_table.DataTable(\n",
    "                            id='cases',\n",
    "                            data=database.to_dict('records'),\n",
    "                            # columns=[{\"name\": i, \"id\": i} for i in database.columns[1:-1]],\n",
    "                            columns=[\n",
    "                                {\n",
    "                                    \"name\": \"Ngày\", \n",
    "                                    \"id\": \"occurrence_time\"\n",
    "                                },\n",
    "                                \n",
    "                                {\n",
    "                                    \"name\": \"Tỉnh\",\n",
    "                                    \"id\": \"tinh_thanhphotrunguong\",\n",
    "                                    \n",
    "                                },\n",
    "                                {\n",
    "                                    \"name\": \"Thành phố\",\n",
    "                                    \"id\": \"thanhpho_huyen\",\n",
    "                                    \n",
    "                                },\n",
    "                                {\n",
    "                                    \"name\": \"Danh pháp khoa học\", \n",
    "                                    \"id\": \"sci_name\"\n",
    "                                },\n",
    "                                \n",
    "                                {\n",
    "                                    \"name\": \"Số lượng\",\n",
    "                                    \"id\": \"num_animal\",\n",
    "                                    \n",
    "                                },\n",
    "                                {\n",
    "                                    \"name\": \"Tang vật\",\n",
    "                                    \"id\": \"object\",\n",
    "                                    \n",
    "                                },\n",
    "                                {\n",
    "                                    \"name\": \"Số lượng\",\n",
    "                                    \"id\": \"volumn\",\n",
    "                                    \n",
    "                                },\n",
    "                                {\n",
    "                                    \"name\": \"Online/Offline\",\n",
    "                                    \"id\": \"online_offline\",\n",
    "                                    \n",
    "                                },\n",
    "                                {\n",
    "                                    \"name\": \"Hành vi phạm tội\",\n",
    "                                    \"id\": \"category_broad\",\n",
    "                                    \n",
    "                                }\n",
    "                            ],\n",
    "                            export_format='xlsx',\n",
    "                            export_headers='display',\n",
    "                            merge_duplicate_headers=True,\n",
    "                            fixed_rows={'headers': True},\n",
    "                            style_table={'height': 400},\n",
    "                            style_cell={\n",
    "                                'minWidth': 80, 'maxWidth': 250, 'width': 95\n",
    "                            }\n",
    "                       ),\n",
    "\n",
    "    \n",
    "])\n",
    "\n",
    "\n",
    "@app.callback(Output(\"detail\", \"children\"), [Input(\"locations\", \"click_feature\")])\n",
    "def capital_click(feature):\n",
    "    if feature is not None:\n",
    "        return f\"You clicked\"\n",
    "\n",
    "# update map\n",
    "@app.callback(\n",
    "    Output(\"locations\", \"data\"), \n",
    "    [Input(\"start-date-search\", \"value\"), \n",
    "     Input(\"start-month-search\", \"value\"),\n",
    "     Input(\"start-year-search\", \"value\"), \n",
    "     Input(\"end-date-search\", \"value\"),\n",
    "     Input(\"end-month-search\", \"value\"), \n",
    "     Input(\"end-year-search\", \"value\"),\n",
    "     Input(\"search-district-filter\", \"value\"),\n",
    "     Input(\"search-big-group-filter\", \"value\"),\n",
    "     Input(\"search-category-filter\", \"value\"),\n",
    "     Input(\"online-offline\", \"value\")]\n",
    ")\n",
    "def display_daily_expenses(start_date, start_month, start_year,\n",
    "                           end_date, end_month, end_year,\n",
    "                           district,\n",
    "                           big_group,\n",
    "                           category,\n",
    "                           on_off):\n",
    "    \n",
    "    filter_df = database.copy()\n",
    "    filter_df['occurrence_time'] = pd.to_datetime(filter_df['occurrence_time'])\n",
    "    start_day = f\"{start_year}-{start_month}-{start_date}\"\n",
    "    end_day = f\"{end_year}-{end_month}-{end_date}\"\n",
    "\n",
    "    filter_df = filter_df[(filter_df['occurrence_time'] >= start_day) & (filter_df['occurrence_time'] <= end_day)]\n",
    "    \n",
    "    filter_df['occurrence_time'] = filter_df['occurrence_time'].apply(lambda x: x.strftime('%Y-%m-%d'))\n",
    "    \n",
    "    if district != \"All\":\n",
    "        if district in ['Hà Nội', 'Hồ Chí Minh']:\n",
    "            district = 'Thành phố ' + district\n",
    "        else:\n",
    "            district = 'Tỉnh ' + district\n",
    "\n",
    "        filter_df = filter_df[filter_df['tinh_thanhphotrunguong'] == district]\n",
    "        \n",
    "    # if big_group != \"All\":\n",
    "    #     filter_df = filter_df[filter_df['category'] == category]\n",
    "        \n",
    "    if category != \"All\":\n",
    "        filter_df = filter_df[filter_df['category_broad'] == category]\n",
    "\n",
    "    if on_off != 'both':\n",
    "        filter_df = filter_df[filter_df['online_offline'] == on_off]\n",
    "\n",
    "    display_location = location_database[location_database['location'].isin(filter_df['location'])]\n",
    "    return dlx.geojson_to_geobuf(dlx.dicts_to_geojson([dict(lat=i, lon=j) for i,j in zip(display_location['lat'], display_location['lon'])]))\n",
    "\n",
    "\n",
    "\n",
    "# update cases table\n",
    "@app.callback(\n",
    "    Output(\"cases\", \"data\"), \n",
    "    [Input(\"start-date-search\", \"value\"), \n",
    "     Input(\"start-month-search\", \"value\"),\n",
    "     Input(\"start-year-search\", \"value\"), \n",
    "     Input(\"end-date-search\", \"value\"),\n",
    "     Input(\"end-month-search\", \"value\"), \n",
    "     Input(\"end-year-search\", \"value\"),\n",
    "     Input(\"search-district-filter\", \"value\"),\n",
    "     Input(\"search-big-group-filter\", \"value\"),\n",
    "     Input(\"search-category-filter\", \"value\"),\n",
    "     Input(\"online-offline\", \"value\")]\n",
    ")\n",
    "def table(start_date, start_month, start_year,\n",
    "        end_date, end_month, end_year,\n",
    "        district,\n",
    "        big_group,\n",
    "        category,\n",
    "        on_off):\n",
    "    \n",
    "    filter_df = database.copy()\n",
    "    filter_df['occurrence_time'] = pd.to_datetime(filter_df['occurrence_time'])\n",
    "    start_day = f\"{start_year}-{start_month}-{start_date}\"\n",
    "    end_day = f\"{end_year}-{end_month}-{end_date}\"\n",
    "\n",
    "    filter_df = filter_df[(filter_df['occurrence_time'] >= start_day) & (filter_df['occurrence_time'] <= end_day)]\n",
    "    \n",
    "    filter_df['occurrence_time'] = filter_df['occurrence_time'].apply(lambda x: x.strftime('%Y-%m-%d'))\n",
    "    \n",
    "    if district != \"All\":\n",
    "        if district in ['Hà Nội', 'Hồ Chí Minh']:\n",
    "            district = 'Thành phố ' + district\n",
    "        else:\n",
    "            district = 'Tỉnh ' + district\n",
    "\n",
    "        filter_df = filter_df[filter_df['tinh_thanhphotrunguong'] == district]\n",
    "        \n",
    "    # if big_group != \"All\":\n",
    "    #     filter_df = filter_df[filter_df['category'] == category]\n",
    "        \n",
    "    if category != \"All\":\n",
    "        filter_df = filter_df[filter_df['category_broad'] == category]\n",
    "\n",
    "    if on_off != 'both':\n",
    "        filter_df = filter_df[filter_df['online_offline'] == on_off]\n",
    "\n",
    "    return filter_df.to_dict('records')\n",
    "\n",
    "@app.callback(\n",
    "    Output(\"total\", \"children\"), \n",
    "    [Input(\"start-date-search\", \"value\"), \n",
    "     Input(\"start-month-search\", \"value\"),\n",
    "     Input(\"start-year-search\", \"value\"), \n",
    "     Input(\"end-date-search\", \"value\"),\n",
    "     Input(\"end-month-search\", \"value\"), \n",
    "     Input(\"end-year-search\", \"value\"),\n",
    "     Input(\"search-district-filter\", \"value\"),\n",
    "     Input(\"search-big-group-filter\", \"value\"),\n",
    "     Input(\"search-category-filter\", \"value\"),\n",
    "     Input(\"online-offline\", \"value\")]\n",
    ")\n",
    "def table(start_date, start_month, start_year,\n",
    "        end_date, end_month, end_year,\n",
    "        district,\n",
    "        big_group,\n",
    "        category,\n",
    "        on_off):\n",
    "    \n",
    "    filter_df = database.copy()\n",
    "    filter_df['occurrence_time'] = pd.to_datetime(filter_df['occurrence_time'])\n",
    "    start_day = f\"{start_year}-{start_month}-{start_date}\"\n",
    "    end_day = f\"{end_year}-{end_month}-{end_date}\"\n",
    "\n",
    "    filter_df = filter_df[(filter_df['occurrence_time'] >= start_day) & (filter_df['occurrence_time'] <= end_day)]\n",
    "    \n",
    "    filter_df['occurrence_time'] = filter_df['occurrence_time'].apply(lambda x: x.strftime('%Y-%m-%d'))\n",
    "    \n",
    "    if district != \"All\":\n",
    "        if district in ['Hà Nội', 'Hồ Chí Minh']:\n",
    "            district = 'Thành phố ' + district\n",
    "        else:\n",
    "            district = 'Tỉnh ' + district\n",
    "\n",
    "        filter_df = filter_df[filter_df['tinh_thanhphotrunguong'] == district]\n",
    "        \n",
    "    # if big_group != \"All\":\n",
    "    #     filter_df = filter_df[filter_df['category'] == category]\n",
    "        \n",
    "    if category != \"All\":\n",
    "        filter_df = filter_df[filter_df['category_broad'] == category]\n",
    "\n",
    "    if on_off != 'both':\n",
    "        filter_df = filter_df[filter_df['online_offline'] == on_off]\n",
    "\n",
    "    drop_dup = filter_df.drop_duplicates(['occurrence_time', 'tinh_thanhphotrunguong', 'category_broad'])\n",
    "\n",
    "    return [\n",
    "        html.H4(f\"Tổng số vi phạm {len(drop_dup)}\"),\n",
    "        dcc.Graph(figure=create_plot_for_cases(filter_df))\n",
    "    ]\n",
    "\n",
    "\n",
    "app.run_server(mode='external', debug=True)\n"
   ]
  },
  {
   "cell_type": "code",
   "execution_count": 26,
   "id": "9e8c9939",
   "metadata": {},
   "outputs": [
    {
     "data": {
      "text/html": [
       "<div>\n",
       "<style scoped>\n",
       "    .dataframe tbody tr th:only-of-type {\n",
       "        vertical-align: middle;\n",
       "    }\n",
       "\n",
       "    .dataframe tbody tr th {\n",
       "        vertical-align: top;\n",
       "    }\n",
       "\n",
       "    .dataframe thead th {\n",
       "        text-align: right;\n",
       "    }\n",
       "</style>\n",
       "<table border=\"1\" class=\"dataframe\">\n",
       "  <thead>\n",
       "    <tr style=\"text-align: right;\">\n",
       "      <th></th>\n",
       "      <th>issue_num</th>\n",
       "      <th>occurrence_time</th>\n",
       "      <th>tinh_thanhphotrunguong</th>\n",
       "      <th>thanhpho_huyen</th>\n",
       "      <th>phuong_xa</th>\n",
       "      <th>sci_name</th>\n",
       "      <th>num_animal</th>\n",
       "      <th>object</th>\n",
       "      <th>volume</th>\n",
       "      <th>online_offline</th>\n",
       "      <th>category_broad</th>\n",
       "      <th>location</th>\n",
       "    </tr>\n",
       "  </thead>\n",
       "  <tbody>\n",
       "    <tr>\n",
       "      <th>0</th>\n",
       "      <td>2015</td>\n",
       "      <td>2015-06-25</td>\n",
       "      <td>Tỉnh Bà Rịa - Vũng Tàu</td>\n",
       "      <td>NaN</td>\n",
       "      <td>NaN</td>\n",
       "      <td>macaque</td>\n",
       "      <td>1.0</td>\n",
       "      <td>NaN</td>\n",
       "      <td>NaN</td>\n",
       "      <td>offline</td>\n",
       "      <td>Storing</td>\n",
       "      <td>NaN</td>\n",
       "    </tr>\n",
       "    <tr>\n",
       "      <th>1</th>\n",
       "      <td>2015</td>\n",
       "      <td>2015-04-20</td>\n",
       "      <td>Tỉnh Bạc Liêu</td>\n",
       "      <td>NaN</td>\n",
       "      <td>NaN</td>\n",
       "      <td>Chelonia mydas</td>\n",
       "      <td>1.0</td>\n",
       "      <td>NaN</td>\n",
       "      <td>NaN</td>\n",
       "      <td>offline</td>\n",
       "      <td>Storing</td>\n",
       "      <td>NaN</td>\n",
       "    </tr>\n",
       "    <tr>\n",
       "      <th>2</th>\n",
       "      <td>2015</td>\n",
       "      <td>2015-04-08</td>\n",
       "      <td>Tỉnh Bình Thuận</td>\n",
       "      <td>NaN</td>\n",
       "      <td>NaN</td>\n",
       "      <td>Chelonia mydas</td>\n",
       "      <td>1.0</td>\n",
       "      <td>NaN</td>\n",
       "      <td>NaN</td>\n",
       "      <td>NaN</td>\n",
       "      <td>Consumpsion</td>\n",
       "      <td>NaN</td>\n",
       "    </tr>\n",
       "    <tr>\n",
       "      <th>3</th>\n",
       "      <td>2015</td>\n",
       "      <td>2015-05-13</td>\n",
       "      <td>Tỉnh Bình Phước</td>\n",
       "      <td>NaN</td>\n",
       "      <td>NaN</td>\n",
       "      <td>Nomascus gabriellae</td>\n",
       "      <td>1.0</td>\n",
       "      <td>NaN</td>\n",
       "      <td>NaN</td>\n",
       "      <td>NaN</td>\n",
       "      <td>Storing</td>\n",
       "      <td>NaN</td>\n",
       "    </tr>\n",
       "    <tr>\n",
       "      <th>4</th>\n",
       "      <td>2015</td>\n",
       "      <td>2015-03-30</td>\n",
       "      <td>Thành phố Đà Nẵng</td>\n",
       "      <td>Quận Sơn Trà</td>\n",
       "      <td>NaN</td>\n",
       "      <td>Pygathrix nemaeus</td>\n",
       "      <td>3.0</td>\n",
       "      <td>NaN</td>\n",
       "      <td>NaN</td>\n",
       "      <td>NaN</td>\n",
       "      <td>Storing</td>\n",
       "      <td>Quận Sơn Trà, Thành phố Đà Nẵng</td>\n",
       "    </tr>\n",
       "    <tr>\n",
       "      <th>...</th>\n",
       "      <td>...</td>\n",
       "      <td>...</td>\n",
       "      <td>...</td>\n",
       "      <td>...</td>\n",
       "      <td>...</td>\n",
       "      <td>...</td>\n",
       "      <td>...</td>\n",
       "      <td>...</td>\n",
       "      <td>...</td>\n",
       "      <td>...</td>\n",
       "      <td>...</td>\n",
       "      <td>...</td>\n",
       "    </tr>\n",
       "    <tr>\n",
       "      <th>494</th>\n",
       "      <td>1 / 2021</td>\n",
       "      <td>2019-09-17</td>\n",
       "      <td>NaN</td>\n",
       "      <td>NaN</td>\n",
       "      <td>NaN</td>\n",
       "      <td>Paguma larvata</td>\n",
       "      <td>1.0</td>\n",
       "      <td>NaN</td>\n",
       "      <td>NaN</td>\n",
       "      <td>offline</td>\n",
       "      <td>Trading</td>\n",
       "      <td>NaN</td>\n",
       "    </tr>\n",
       "    <tr>\n",
       "      <th>495</th>\n",
       "      <td>1 / 2021</td>\n",
       "      <td>2019-09-17</td>\n",
       "      <td>NaN</td>\n",
       "      <td>NaN</td>\n",
       "      <td>NaN</td>\n",
       "      <td>Paradoxurus hermaphroditus</td>\n",
       "      <td>1.0</td>\n",
       "      <td>NaN</td>\n",
       "      <td>NaN</td>\n",
       "      <td>offline</td>\n",
       "      <td>Trading</td>\n",
       "      <td>NaN</td>\n",
       "    </tr>\n",
       "    <tr>\n",
       "      <th>496</th>\n",
       "      <td>1 / 2021</td>\n",
       "      <td>2020-08-03</td>\n",
       "      <td>Tỉnh An Giang</td>\n",
       "      <td>Huyện Tịnh Biên</td>\n",
       "      <td>NaN</td>\n",
       "      <td>stork</td>\n",
       "      <td>15.0</td>\n",
       "      <td>NaN</td>\n",
       "      <td>NaN</td>\n",
       "      <td>offline</td>\n",
       "      <td>Hunting</td>\n",
       "      <td>Huyện Tịnh Biên, Tỉnh An Giang</td>\n",
       "    </tr>\n",
       "    <tr>\n",
       "      <th>497</th>\n",
       "      <td>1 / 2021</td>\n",
       "      <td>2020-07-08</td>\n",
       "      <td>Tỉnh Bà Rịa - Vũng Tàu</td>\n",
       "      <td>NaN</td>\n",
       "      <td>NaN</td>\n",
       "      <td>Paradoxurus hermaphroditus</td>\n",
       "      <td>2.0</td>\n",
       "      <td>NaN</td>\n",
       "      <td>NaN</td>\n",
       "      <td>offline</td>\n",
       "      <td>Consumpsion</td>\n",
       "      <td>NaN</td>\n",
       "    </tr>\n",
       "    <tr>\n",
       "      <th>498</th>\n",
       "      <td>1 / 2021</td>\n",
       "      <td>2020-09-24</td>\n",
       "      <td>Tỉnh Bắc Kạn</td>\n",
       "      <td>Huyện Ngân Sơn</td>\n",
       "      <td>NaN</td>\n",
       "      <td>Lophuranycthemera</td>\n",
       "      <td>2.0</td>\n",
       "      <td>NaN</td>\n",
       "      <td>NaN</td>\n",
       "      <td>offline</td>\n",
       "      <td>Trading</td>\n",
       "      <td>Huyện Ngân Sơn, Tỉnh Bắc Kạn</td>\n",
       "    </tr>\n",
       "  </tbody>\n",
       "</table>\n",
       "<p>499 rows × 12 columns</p>\n",
       "</div>"
      ],
      "text/plain": [
       "    issue_num occurrence_time  tinh_thanhphotrunguong   thanhpho_huyen  \\\n",
       "0        2015      2015-06-25  Tỉnh Bà Rịa - Vũng Tàu              NaN   \n",
       "1        2015      2015-04-20           Tỉnh Bạc Liêu              NaN   \n",
       "2        2015      2015-04-08         Tỉnh Bình Thuận              NaN   \n",
       "3        2015      2015-05-13         Tỉnh Bình Phước              NaN   \n",
       "4        2015      2015-03-30       Thành phố Đà Nẵng     Quận Sơn Trà   \n",
       "..        ...             ...                     ...              ...   \n",
       "494  1 / 2021      2019-09-17                     NaN              NaN   \n",
       "495  1 / 2021      2019-09-17                     NaN              NaN   \n",
       "496  1 / 2021      2020-08-03           Tỉnh An Giang  Huyện Tịnh Biên   \n",
       "497  1 / 2021      2020-07-08  Tỉnh Bà Rịa - Vũng Tàu              NaN   \n",
       "498  1 / 2021      2020-09-24            Tỉnh Bắc Kạn   Huyện Ngân Sơn   \n",
       "\n",
       "    phuong_xa                    sci_name  num_animal object volume  \\\n",
       "0         NaN                     macaque         1.0    NaN    NaN   \n",
       "1         NaN              Chelonia mydas         1.0    NaN    NaN   \n",
       "2         NaN              Chelonia mydas         1.0    NaN    NaN   \n",
       "3         NaN         Nomascus gabriellae         1.0    NaN    NaN   \n",
       "4         NaN           Pygathrix nemaeus         3.0    NaN    NaN   \n",
       "..        ...                         ...         ...    ...    ...   \n",
       "494       NaN              Paguma larvata         1.0    NaN    NaN   \n",
       "495       NaN  Paradoxurus hermaphroditus         1.0    NaN    NaN   \n",
       "496       NaN                       stork        15.0    NaN    NaN   \n",
       "497       NaN  Paradoxurus hermaphroditus         2.0    NaN    NaN   \n",
       "498       NaN           Lophuranycthemera         2.0    NaN    NaN   \n",
       "\n",
       "    online_offline category_broad                         location  \n",
       "0          offline        Storing                              NaN  \n",
       "1          offline        Storing                              NaN  \n",
       "2              NaN    Consumpsion                              NaN  \n",
       "3              NaN        Storing                              NaN  \n",
       "4              NaN        Storing  Quận Sơn Trà, Thành phố Đà Nẵng  \n",
       "..             ...            ...                              ...  \n",
       "494        offline        Trading                              NaN  \n",
       "495        offline        Trading                              NaN  \n",
       "496        offline        Hunting   Huyện Tịnh Biên, Tỉnh An Giang  \n",
       "497        offline    Consumpsion                              NaN  \n",
       "498        offline        Trading     Huyện Ngân Sơn, Tỉnh Bắc Kạn  \n",
       "\n",
       "[499 rows x 12 columns]"
      ]
     },
     "execution_count": 26,
     "metadata": {},
     "output_type": "execute_result"
    }
   ],
   "source": [
    "database"
   ]
  },
  {
   "cell_type": "code",
   "execution_count": 27,
   "id": "46ebd2ea",
   "metadata": {},
   "outputs": [],
   "source": [
    "# shutdown the server\n",
    "# app.terminate_server_for_port(\"localhost\", 8050)"
   ]
  },
  {
   "cell_type": "code",
   "execution_count": null,
   "id": "d1a30cc0",
   "metadata": {},
   "outputs": [],
   "source": []
  }
 ],
 "metadata": {
  "kernelspec": {
   "display_name": "Python 3 (ipykernel)",
   "language": "python",
   "name": "python3"
  },
  "language_info": {
   "codemirror_mode": {
    "name": "ipython",
    "version": 3
   },
   "file_extension": ".py",
   "mimetype": "text/x-python",
   "name": "python",
   "nbconvert_exporter": "python",
   "pygments_lexer": "ipython3",
   "version": "3.9.7"
  }
 },
 "nbformat": 4,
 "nbformat_minor": 5
}
